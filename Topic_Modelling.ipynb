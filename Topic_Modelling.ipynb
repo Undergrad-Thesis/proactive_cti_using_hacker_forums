{
  "nbformat": 4,
  "nbformat_minor": 0,
  "metadata": {
    "colab": {
      "provenance": []
    },
    "kernelspec": {
      "name": "python3",
      "display_name": "Python 3"
    },
    "language_info": {
      "name": "python"
    }
  },
  "cells": [
    {
      "cell_type": "code",
      "execution_count": null,
      "metadata": {
        "colab": {
          "base_uri": "https://localhost:8080/"
        },
        "id": "11i_hGcgL2L0",
        "outputId": "45725c11-8fe4-4a7d-fa91-87091621c66c"
      },
      "outputs": [
        {
          "output_type": "stream",
          "name": "stdout",
          "text": [
            "Mounted at /content/drive\n"
          ]
        }
      ],
      "source": [
        "from google.colab import drive\n",
        "drive.mount('/content/drive')"
      ]
    },
    {
      "cell_type": "code",
      "source": [
        "import pandas as pd"
      ],
      "metadata": {
        "id": "wrxU5nl5qY0c"
      },
      "execution_count": null,
      "outputs": []
    },
    {
      "cell_type": "code",
      "source": [
        "df = pd.read_csv('/content/drive/MyDrive/undergrad_thesis/hn.csv')"
      ],
      "metadata": {
        "id": "UHVw49VfqYx-"
      },
      "execution_count": null,
      "outputs": []
    },
    {
      "cell_type": "code",
      "source": [
        "df.groupby('keyw').count()['title'].sort_values(ascending=False)"
      ],
      "metadata": {
        "colab": {
          "base_uri": "https://localhost:8080/"
        },
        "id": "XQV5HLURqYqf",
        "outputId": "f9e91110-9107-437a-b7a6-6680cca59cf4"
      },
      "execution_count": null,
      "outputs": [
        {
          "output_type": "execute_result",
          "data": {
            "text/plain": [
              "keyw\n",
              "privacy             2061\n",
              "open-source         1473\n",
              "blockchain          1201\n",
              "competition          348\n",
              "offline              327\n",
              "fake news            326\n",
              "cybersecurity        312\n",
              "democracy            286\n",
              "ethical              262\n",
              "personal data        189\n",
              "discrimination       173\n",
              "justice              142\n",
              "global warming       103\n",
              "climate crisis        88\n",
              "inclusive             72\n",
              "sustainability        61\n",
              "smart city            47\n",
              "right to repair       29\n",
              "digital id            21\n",
              "filter bubble         19\n",
              "public space          18\n",
              "e-id                  14\n",
              "decentralisation       8\n",
              "data governance        6\n",
              "Name: title, dtype: int64"
            ]
          },
          "metadata": {},
          "execution_count": 6
        }
      ]
    },
    {
      "cell_type": "code",
      "source": [
        "df_priv=df[(df['keyw']=='privacy') & ~df['text'].isna()]"
      ],
      "metadata": {
        "id": "lEm7U03qqYoH"
      },
      "execution_count": null,
      "outputs": []
    },
    {
      "cell_type": "code",
      "source": [
        "docs=df_priv['text'].tolist()"
      ],
      "metadata": {
        "id": "UB5pfu9vqYl0"
      },
      "execution_count": null,
      "outputs": []
    },
    {
      "cell_type": "code",
      "source": [
        "print(len(docs))"
      ],
      "metadata": {
        "colab": {
          "base_uri": "https://localhost:8080/"
        },
        "id": "UStIwJlfqYjT",
        "outputId": "25526d7b-f676-4e30-f971-62879279ae22"
      },
      "execution_count": null,
      "outputs": [
        {
          "output_type": "stream",
          "name": "stdout",
          "text": [
            "2034\n"
          ]
        }
      ]
    },
    {
      "cell_type": "code",
      "source": [
        "print(docs[0])"
      ],
      "metadata": {
        "colab": {
          "base_uri": "https://localhost:8080/"
        },
        "id": "Nb7km9bhqYhF",
        "outputId": "6a3a8dcd-729a-419e-d278-a9c53e984763"
      },
      "execution_count": null,
      "outputs": [
        {
          "output_type": "stream",
          "name": "stdout",
          "text": [
            "Anonymous Data Let's pretend we're analysts at a small college, looking at anonymous survey data about plagiarism. We've gotten responses from the entire student body, reporting if they've ever plagiarized or not. To encourage them to respond honestly, names were not collected. The data here has been randomly generated\n",
            "\n",
            "On the survey students also report several bits of information about themselves, like their age...\n",
            "\n",
            "...and what state they're from. This additional information is critical to finding potential patterns in the data—why have so many first-years from New Hampshire plagiarized?\n",
            "\n",
            "Revealed Information But granular information comes with a cost. One student has a unique age/home state combination. By searching another student database for a 19-year old from Vermont we can identify one of the plagiarists from supposedly anonymous survey data.\n",
            "\n",
            "Increasing granularity exacerbates the problem. If the students reported slightly more about their ages by including what season they were born in, we'd be able to identify about a sixth of them. This isn't just a hypothetical: A birthday / gender / zip code combination uniquely identifies 83% of the people in the United States. With the spread of large datasets, it is increasingly difficult to release detailed information without inadvertently revealing someone's identity. A week of a person's location data could reveal a home and work address—possibly enough to find a name using public records.\n",
            "\n",
            "Randomization One solution is to randomize responses so each student has plausible deniability. This lets us buy privacy at the cost of some uncertainty in our estimation of plagiarism rates. Step 1: Each student flips a coin and looks at it without showing anyone.\n",
            "\n",
            "Step 2: Students who flip heads report plagiarism, even if they haven't plagiarized. Students that flipped tails report the truth, secure with the knowledge that even if their response is linked back to their name, they can claim they flipped heads.\n",
            "\n",
            "With a little bit of math, we can approximate the rate of plagiarism from these randomized responses. We'll skip the algebra, but doubling the reported non-plagiarism rate gives a good estimate of the actual non-plagiarism rate. Flip coins\n",
            "\n",
            "How far off can we be? If we simulate this coin flipping lots of times, we can see the distribution of errors. The estimates are close most of the time, but errors can be quite large. Flip coins 200 times\n",
            "\n",
            "Reducing the random noise (by reducing the number of students who flip heads) increases the accuracy of our estimate, but risks leaking information about students. If the coin is heavily weighted towards tails, identified students can't credibly claim they reported plagiarizing because they flipped heads.\n"
          ]
        }
      ]
    },
    {
      "cell_type": "code",
      "source": [
        "# Tokenize the documents.\n",
        "import nltk\n",
        "nltk.download(\"stopwords\")\n",
        "\n",
        "from nltk.tokenize import RegexpTokenizer\n",
        "from nltk.corpus import stopwords\n",
        "stop_words = set(stopwords.words('english'))\n",
        "\n",
        "# Split the documents into tokens.\n",
        "tokenizer = RegexpTokenizer(r'\\w+')\n",
        "for idx in range(len(docs)):\n",
        "    docs[idx] = docs[idx].lower()  # Convert to lowercase.\n",
        "    docs[idx] = tokenizer.tokenize(docs[idx])  # Split into words.\n",
        "\n",
        "# Remove numbers, but not words that contain numbers.\n",
        "docs = [[token for token in doc if not token.isnumeric()] for doc in docs]\n",
        "\n",
        "# Remove words that are only one character.\n",
        "docs = [[token for token in doc if len(token) > 1] for doc in docs]\n",
        "\n",
        "docs = [[token for token in doc if token not in stop_words] for doc in docs]"
      ],
      "metadata": {
        "colab": {
          "base_uri": "https://localhost:8080/"
        },
        "id": "fLqeG4ZWqYd1",
        "outputId": "decefa4a-47bd-41f5-b09a-c4aa1ef013be"
      },
      "execution_count": null,
      "outputs": [
        {
          "output_type": "stream",
          "name": "stderr",
          "text": [
            "[nltk_data] Downloading package stopwords to /root/nltk_data...\n",
            "[nltk_data]   Unzipping corpora/stopwords.zip.\n"
          ]
        }
      ]
    },
    {
      "cell_type": "code",
      "source": [
        "docs[0][:10]"
      ],
      "metadata": {
        "colab": {
          "base_uri": "https://localhost:8080/"
        },
        "id": "kwInOJcEqYbI",
        "outputId": "ec316414-2c87-43df-9d62-3413409ed70f"
      },
      "execution_count": null,
      "outputs": [
        {
          "output_type": "execute_result",
          "data": {
            "text/plain": [
              "['anonymous',\n",
              " 'data',\n",
              " 'let',\n",
              " 'pretend',\n",
              " 'analysts',\n",
              " 'small',\n",
              " 'college',\n",
              " 'looking',\n",
              " 'anonymous',\n",
              " 'survey']"
            ]
          },
          "metadata": {},
          "execution_count": 13
        }
      ]
    },
    {
      "cell_type": "code",
      "source": [
        "# Lemmatize the documents.\n",
        "import nltk\n",
        "nltk.download(\"wordnet\")\n",
        "from nltk.stem.wordnet import WordNetLemmatizer\n",
        "\n",
        "lemmatizer = WordNetLemmatizer()\n",
        "docs = [[lemmatizer.lemmatize(token) for token in doc] for doc in docs]"
      ],
      "metadata": {
        "colab": {
          "base_uri": "https://localhost:8080/"
        },
        "id": "7YRR29xiqXwj",
        "outputId": "92dd53ee-e10d-478d-89ad-6146960495ad"
      },
      "execution_count": null,
      "outputs": [
        {
          "output_type": "stream",
          "name": "stderr",
          "text": [
            "[nltk_data] Downloading package wordnet to /root/nltk_data...\n"
          ]
        }
      ]
    },
    {
      "cell_type": "code",
      "source": [
        "# Compute bigrams.\n",
        "from gensim.models import Phrases\n",
        "\n",
        "# Add bigrams and trigrams to docs (only ones that appear 20 times or more).\n",
        "bigram = Phrases(docs, min_count=20)\n",
        "for idx in range(len(docs)):\n",
        "    for token in bigram[docs[idx]]:\n",
        "        if '_' in token:\n",
        "             # Token is a bigram, add to document.\n",
        "            docs[idx].append(token)"
      ],
      "metadata": {
        "id": "cRHwbiGVq96M"
      },
      "execution_count": null,
      "outputs": []
    },
    {
      "cell_type": "code",
      "source": [
        "docs[1][-30:]"
      ],
      "metadata": {
        "colab": {
          "base_uri": "https://localhost:8080/"
        },
        "id": "fufMKZ6NrIt6",
        "outputId": "51d3a093-804d-407d-f23d-06ffed895da9"
      },
      "execution_count": null,
      "outputs": [
        {
          "output_type": "execute_result",
          "data": {
            "text/plain": [
              "['people',\n",
              " 'safe',\n",
              " 'online',\n",
              " 'addressing',\n",
              " 'hate',\n",
              " 'crime',\n",
              " 'community',\n",
              " 'announcement',\n",
              " 'mark',\n",
              " 'significant',\n",
              " 'step',\n",
              " 'forward',\n",
              " 'making',\n",
              " 'privacy',\n",
              " 'security',\n",
              " 'reality',\n",
              " 'everyone',\n",
              " 'excited',\n",
              " 'team',\n",
              " 'munich',\n",
              " 'leading',\n",
              " 'way',\n",
              " 'last_week',\n",
              " 'developer_conference',\n",
              " 'around_world',\n",
              " 'million_people',\n",
              " 'every_day',\n",
              " 'browse_web',\n",
              " 'chrome_browser',\n",
              " 'first_time']"
            ]
          },
          "metadata": {},
          "execution_count": 17
        }
      ]
    },
    {
      "cell_type": "code",
      "source": [
        "# Remove rare and common tokens.\n",
        "from gensim.corpora import Dictionary\n",
        "\n",
        "# Create a dictionary representation of the documents.\n",
        "dictionary = Dictionary(docs)\n",
        "\n",
        "# Filter out words that occur less than 20 documents, or more than 50% of the documents.\n",
        "dictionary.filter_extremes(no_below=20, no_above=0.5)"
      ],
      "metadata": {
        "id": "rsfmq7cnrNPB"
      },
      "execution_count": null,
      "outputs": []
    },
    {
      "cell_type": "code",
      "source": [
        "# Bag-of-words representation of the documents.\n",
        "corpus = [dictionary.doc2bow(doc) for doc in docs]"
      ],
      "metadata": {
        "id": "LU2K7aCArQq9"
      },
      "execution_count": null,
      "outputs": []
    },
    {
      "cell_type": "code",
      "source": [
        "print('Number of unique tokens: %d' % len(dictionary))\n",
        "print('Number of documents: %d' % len(corpus))"
      ],
      "metadata": {
        "colab": {
          "base_uri": "https://localhost:8080/"
        },
        "id": "WRdF7lePrS4Y",
        "outputId": "126a8c77-08ab-4960-a205-8e990db1dd49"
      },
      "execution_count": null,
      "outputs": [
        {
          "output_type": "stream",
          "name": "stdout",
          "text": [
            "Number of unique tokens: 4493\n",
            "Number of documents: 2034\n"
          ]
        }
      ]
    },
    {
      "cell_type": "code",
      "source": [
        "# Train LDA model.\n",
        "from gensim.models import LdaModel\n",
        "\n",
        "# Set training parameters.\n",
        "num_topics = 10\n",
        "chunksize = 2000\n",
        "passes = 20\n",
        "iterations = 400\n",
        "eval_every = None  # Don't evaluate model perplexity, takes too much time.\n",
        "\n",
        "# Make a index to word dictionary.\n",
        "temp = dictionary[0]  # This is only to \"load\" the dictionary.\n",
        "id2word = dictionary.id2token\n",
        "\n",
        "model = LdaModel(\n",
        "    corpus=corpus,\n",
        "    id2word=id2word,\n",
        "    chunksize=chunksize,\n",
        "    alpha='auto',\n",
        "    eta='auto',\n",
        "    iterations=iterations,\n",
        "    num_topics=num_topics,\n",
        "    passes=passes,\n",
        "    eval_every=eval_every\n",
        ")"
      ],
      "metadata": {
        "id": "WKMjvVMfrUjY"
      },
      "execution_count": null,
      "outputs": []
    },
    {
      "cell_type": "code",
      "source": [
        "top_topics = model.top_topics(corpus) #, num_words=20)\n",
        "\n",
        "# Average topic coherence is the sum of topic coherences of all topics, divided by the number of topics.\n",
        "avg_topic_coherence = sum([t[1] for t in top_topics]) / num_topics\n",
        "print('Average topic coherence: %.4f.' % avg_topic_coherence)\n",
        "\n",
        "from pprint import pprint\n",
        "pprint(top_topics)"
      ],
      "metadata": {
        "colab": {
          "base_uri": "https://localhost:8080/"
        },
        "id": "TV2mfDy3rWTi",
        "outputId": "937d8f1a-1624-4832-9cad-c8eede91c46a"
      },
      "execution_count": null,
      "outputs": [
        {
          "output_type": "stream",
          "name": "stdout",
          "text": [
            "Average topic coherence: -1.2834.\n",
            "[([(0.0054431236, 'even'),\n",
            "   (0.0052470244, 'social'),\n",
            "   (0.0051557743, 'facebook'),\n",
            "   (0.005116725, 'think'),\n",
            "   (0.0046177516, 'u'),\n",
            "   (0.004416071, 'medium'),\n",
            "   (0.00436699, 'technology'),\n",
            "   (0.004242177, 'year'),\n",
            "   (0.004178721, 'say'),\n",
            "   (0.0040002507, 'public'),\n",
            "   (0.0038898592, 'access'),\n",
            "   (0.0038826123, 'model'),\n",
            "   (0.0038804316, 'thing'),\n",
            "   (0.0038435108, 'way'),\n",
            "   (0.0037941996, 'know'),\n",
            "   (0.003731327, 'used'),\n",
            "   (0.0035217637, 'get'),\n",
            "   (0.0034731256, 'could'),\n",
            "   (0.0032635634, 'tech'),\n",
            "   (0.0031933726, 'right')],\n",
            "  -0.7213205706867131),\n",
            " ([(0.051179577, 'facebook'),\n",
            "   (0.02449236, 'said'),\n",
            "   (0.014673753, 'policy'),\n",
            "   (0.013106008, 'email'),\n",
            "   (0.010103438, 'gdpr'),\n",
            "   (0.009434107, 'privacy_policy'),\n",
            "   (0.0093204025, 'post'),\n",
            "   (0.0072754435, 'year'),\n",
            "   (0.0072665387, 'zuckerberg'),\n",
            "   (0.0068681315, 'cambridge'),\n",
            "   (0.0068246517, 'firm'),\n",
            "   (0.006458606, 'last'),\n",
            "   (0.0056378325, 'update'),\n",
            "   (0.0055667786, 'even'),\n",
            "   (0.005212164, 'million'),\n",
            "   (0.005071136, 'need'),\n",
            "   (0.004999184, 'change'),\n",
            "   (0.004932125, 'may'),\n",
            "   (0.0048965737, 'analytica'),\n",
            "   (0.0048547285, 'many')],\n",
            "  -0.9474861904661038),\n",
            " ([(0.036371898, 'apple'),\n",
            "   (0.027918177, 'app'),\n",
            "   (0.0259113, 'ad'),\n",
            "   (0.021345163, 'tracking'),\n",
            "   (0.013014924, 'safari'),\n",
            "   (0.0110093905, 'feature'),\n",
            "   (0.010561025, 'developer'),\n",
            "   (0.010507464, 'store'),\n",
            "   (0.010487459, 'advertiser'),\n",
            "   (0.010213449, 'apps'),\n",
            "   (0.00909319, 'ceo'),\n",
            "   (0.008831725, 'io'),\n",
            "   (0.008702599, 'app_store'),\n",
            "   (0.008676884, 'said'),\n",
            "   (0.008303591, 'location'),\n",
            "   (0.008235337, 'google'),\n",
            "   (0.007619511, 'say'),\n",
            "   (0.0073645483, 'party'),\n",
            "   (0.0068682213, 'device'),\n",
            "   (0.006077517, 'third')],\n",
            "  -1.003454523523093),\n",
            " ([(0.02571299, 'law'),\n",
            "   (0.0139344605, 'consumer'),\n",
            "   (0.011268532, 'true'),\n",
            "   (0.010604052, 'california'),\n",
            "   (0.0104803955, 'false'),\n",
            "   (0.009768309, 'state'),\n",
            "   (0.009338798, 'personal'),\n",
            "   (0.009187066, 'european'),\n",
            "   (0.008959149, 'facebook'),\n",
            "   (0.008820411, 'protection'),\n",
            "   (0.008637986, 'court'),\n",
            "   (0.007815814, 'change'),\n",
            "   (0.007747792, 'right'),\n",
            "   (0.0067072595, 'said'),\n",
            "   (0.0064818375, 'tech'),\n",
            "   (0.006448332, 'standard'),\n",
            "   (0.0058983723, 'general'),\n",
            "   (0.005749148, 'personal_data'),\n",
            "   (0.0056403084, 'government'),\n",
            "   (0.0056161713, 'eu')],\n",
            "  -1.0308044322890997),\n",
            " ([(0.026437456, 'device'),\n",
            "   (0.025553215, 'apps'),\n",
            "   (0.01740013, 'personal'),\n",
            "   (0.015626073, 'account'),\n",
            "   (0.014993703, 'app'),\n",
            "   (0.014166844, 'managed'),\n",
            "   (0.013808469, 'apple'),\n",
            "   (0.009764274, 'id'),\n",
            "   (0.009368303, 'internet'),\n",
            "   (0.008974986, 'end'),\n",
            "   (0.0087030195, 'location'),\n",
            "   (0.0073161204, 'business'),\n",
            "   (0.006109863, 'management'),\n",
            "   (0.0057962695, 'access'),\n",
            "   (0.005718314, 'well'),\n",
            "   (0.0055452352, 'email'),\n",
            "   (0.005464002, 'need'),\n",
            "   (0.0054248804, 'third'),\n",
            "   (0.00537905, 'policy'),\n",
            "   (0.0053611845, 'mail')],\n",
            "  -1.207945985353229),\n",
            " ([(0.028975513, 'setting'),\n",
            "   (0.022225386, 'firefox'),\n",
            "   (0.02055423, 'extension'),\n",
            "   (0.015303456, 'browser'),\n",
            "   (0.015258531, 'section'),\n",
            "   (0.012385227, 'block'),\n",
            "   (0.011340273, 'site'),\n",
            "   (0.010802618, 'mozilla'),\n",
            "   (0.01027243, 'version'),\n",
            "   (0.009278113, 'tor'),\n",
            "   (0.00879262, 'file'),\n",
            "   (0.008194708, 'cooky'),\n",
            "   (0.008178799, 'web'),\n",
            "   (0.0075318804, 'domain'),\n",
            "   (0.0074345977, 'performance'),\n",
            "   (0.00736106, 'feature'),\n",
            "   (0.00721039, 'http'),\n",
            "   (0.0066958633, 'change'),\n",
            "   (0.0063756127, 'install'),\n",
            "   (0.0063421577, 'facebook')],\n",
            "  -1.2522938165590167),\n",
            " ([(0.015075223, 'google'),\n",
            "   (0.011972668, 'website'),\n",
            "   (0.011841328, 'security'),\n",
            "   (0.010766007, 'service'),\n",
            "   (0.00913421, 'internet'),\n",
            "   (0.009123353, 'address'),\n",
            "   (0.008630664, 'server'),\n",
            "   (0.008076646, 'search'),\n",
            "   (0.008008332, 'get'),\n",
            "   (0.0076407455, 'vpns'),\n",
            "   (0.0068846145, 'traffic'),\n",
            "   (0.0068457746, 'network'),\n",
            "   (0.006709736, 'http'),\n",
            "   (0.006649841, 'app'),\n",
            "   (0.006198091, 'using'),\n",
            "   (0.006194779, 'dns'),\n",
            "   (0.0061557433, 'android'),\n",
            "   (0.0061226874, 'provider'),\n",
            "   (0.0060978117, 'foundation'),\n",
            "   (0.0058987243, 'vpn')],\n",
            "  -1.484779051875829),\n",
            " ([(0.022776797, 'call'),\n",
            "   (0.020231076, 'device'),\n",
            "   (0.013081423, 'message'),\n",
            "   (0.011973825, 'voice'),\n",
            "   (0.01024301, 'support'),\n",
            "   (0.009997129, 'feature'),\n",
            "   (0.009760188, 'google'),\n",
            "   (0.0096957255, 'iphone'),\n",
            "   (0.009498446, 'mark'),\n",
            "   (0.009493881, 'apple'),\n",
            "   (0.009371091, 'service'),\n",
            "   (0.008825615, 'speaker'),\n",
            "   (0.008746204, 'work'),\n",
            "   (0.008091064, 'home'),\n",
            "   (0.007312877, 'amazon'),\n",
            "   (0.0072708423, 'ii'),\n",
            "   (0.0072447183, 'echo'),\n",
            "   (0.007219885, 'text'),\n",
            "   (0.0071994294, 'source'),\n",
            "   (0.0070444606, 'phone')],\n",
            "  -1.6659198988832238),\n",
            " ([(0.025281016, 'microsoft'),\n",
            "   (0.021642022, 'office'),\n",
            "   (0.011608139, 'app'),\n",
            "   (0.011536147, 'government'),\n",
            "   (0.009125506, 'apps'),\n",
            "   (0.008817968, 'online'),\n",
            "   (0.008410098, 'mobile'),\n",
            "   (0.008260533, 'risk'),\n",
            "   (0.007497591, 'window'),\n",
            "   (0.0072285817, 'security'),\n",
            "   (0.007228503, 'purpose'),\n",
            "   (0.0064847306, 'service'),\n",
            "   (0.00636798, 'processing'),\n",
            "   (0.005984212, 'telemetry'),\n",
            "   (0.0058557303, 'experience'),\n",
            "   (0.0050758906, 'customer'),\n",
            "   (0.004933177, 'dutch'),\n",
            "   (0.0049022515, 'via'),\n",
            "   (0.004857504, 'solution'),\n",
            "   (0.0048423945, 'connected')],\n",
            "  -1.7275343555281701),\n",
            " ([(0.01798321, 'apple'),\n",
            "   (0.0172656, 'said'),\n",
            "   (0.015022435, 'court'),\n",
            "   (0.012210018, 'location'),\n",
            "   (0.01199387, 'google'),\n",
            "   (0.0112509895, 'decision'),\n",
            "   (0.009632433, 'phone'),\n",
            "   (0.009401958, 'supreme'),\n",
            "   (0.009393212, 'supreme_court'),\n",
            "   (0.009163246, 'record'),\n",
            "   (0.008437831, 'device'),\n",
            "   (0.0072440053, 'technology'),\n",
            "   (0.007036622, 'government'),\n",
            "   (0.0062860665, 'digital'),\n",
            "   (0.0057883793, 'police'),\n",
            "   (0.005548001, 'could'),\n",
            "   (0.005429601, 'camera'),\n",
            "   (0.00539854, 'surveillance'),\n",
            "   (0.0053478787, 'pt'),\n",
            "   (0.005318076, 'amendment')],\n",
            "  -1.792074974697263)]\n"
          ]
        }
      ]
    },
    {
      "cell_type": "code",
      "source": [
        "!pip install pyLDAvis\n",
        "\n",
        "import pyLDAvis.gensim_models\n",
        "pyLDAvis.enable_notebook()\n",
        "pyLDAvis.gensim_models.prepare(model, corpus, dictionary)"
      ],
      "metadata": {
        "colab": {
          "base_uri": "https://localhost:8080/",
          "height": 1000
        },
        "id": "JgAk35yrrXgB",
        "outputId": "bb969b9a-f334-455d-836f-322b8f34bde1"
      },
      "execution_count": null,
      "outputs": [
        {
          "output_type": "stream",
          "name": "stdout",
          "text": [
            "Looking in indexes: https://pypi.org/simple, https://us-python.pkg.dev/colab-wheels/public/simple/\n",
            "Collecting pyLDAvis\n",
            "  Downloading pyLDAvis-3.4.0-py3-none-any.whl (2.6 MB)\n",
            "\u001b[2K     \u001b[90m━━━━━━━━━━━━━━━━━━━━━━━━━━━━━━━━━━━━━━━━\u001b[0m \u001b[32m2.6/2.6 MB\u001b[0m \u001b[31m42.2 MB/s\u001b[0m eta \u001b[36m0:00:00\u001b[0m\n",
            "\u001b[?25hRequirement already satisfied: gensim in /usr/local/lib/python3.9/dist-packages (from pyLDAvis) (4.3.1)\n",
            "Requirement already satisfied: scipy in /usr/local/lib/python3.9/dist-packages (from pyLDAvis) (1.10.1)\n",
            "Collecting funcy\n",
            "  Downloading funcy-2.0-py2.py3-none-any.whl (30 kB)\n",
            "Requirement already satisfied: jinja2 in /usr/local/lib/python3.9/dist-packages (from pyLDAvis) (3.1.2)\n",
            "Requirement already satisfied: scikit-learn>=1.0.0 in /usr/local/lib/python3.9/dist-packages (from pyLDAvis) (1.2.2)\n",
            "Requirement already satisfied: numexpr in /usr/local/lib/python3.9/dist-packages (from pyLDAvis) (2.8.4)\n",
            "Requirement already satisfied: numpy>=1.22.0 in /usr/local/lib/python3.9/dist-packages (from pyLDAvis) (1.22.4)\n",
            "Requirement already satisfied: pandas>=1.3.4 in /usr/local/lib/python3.9/dist-packages (from pyLDAvis) (1.4.4)\n",
            "Collecting joblib>=1.2.0\n",
            "  Downloading joblib-1.2.0-py3-none-any.whl (297 kB)\n",
            "\u001b[2K     \u001b[90m━━━━━━━━━━━━━━━━━━━━━━━━━━━━━━━━━━━━━━\u001b[0m \u001b[32m298.0/298.0 KB\u001b[0m \u001b[31m34.9 MB/s\u001b[0m eta \u001b[36m0:00:00\u001b[0m\n",
            "\u001b[?25hRequirement already satisfied: setuptools in /usr/local/lib/python3.9/dist-packages (from pyLDAvis) (67.6.1)\n",
            "Requirement already satisfied: pytz>=2020.1 in /usr/local/lib/python3.9/dist-packages (from pandas>=1.3.4->pyLDAvis) (2022.7.1)\n",
            "Requirement already satisfied: python-dateutil>=2.8.1 in /usr/local/lib/python3.9/dist-packages (from pandas>=1.3.4->pyLDAvis) (2.8.2)\n",
            "Requirement already satisfied: threadpoolctl>=2.0.0 in /usr/local/lib/python3.9/dist-packages (from scikit-learn>=1.0.0->pyLDAvis) (3.1.0)\n",
            "Requirement already satisfied: smart-open>=1.8.1 in /usr/local/lib/python3.9/dist-packages (from gensim->pyLDAvis) (6.3.0)\n",
            "Requirement already satisfied: MarkupSafe>=2.0 in /usr/local/lib/python3.9/dist-packages (from jinja2->pyLDAvis) (2.1.2)\n",
            "Requirement already satisfied: six>=1.5 in /usr/local/lib/python3.9/dist-packages (from python-dateutil>=2.8.1->pandas>=1.3.4->pyLDAvis) (1.16.0)\n",
            "Installing collected packages: funcy, joblib, pyLDAvis\n",
            "  Attempting uninstall: joblib\n",
            "    Found existing installation: joblib 1.1.1\n",
            "    Uninstalling joblib-1.1.1:\n",
            "      Successfully uninstalled joblib-1.1.1\n",
            "\u001b[31mERROR: pip's dependency resolver does not currently take into account all the packages that are installed. This behaviour is the source of the following dependency conflicts.\n",
            "pandas-profiling 3.2.0 requires joblib~=1.1.0, but you have joblib 1.2.0 which is incompatible.\u001b[0m\u001b[31m\n",
            "\u001b[0mSuccessfully installed funcy-2.0 joblib-1.2.0 pyLDAvis-3.4.0\n"
          ]
        },
        {
          "output_type": "stream",
          "name": "stderr",
          "text": [
            "/usr/local/lib/python3.9/dist-packages/pyLDAvis/_prepare.py:243: FutureWarning: In a future version of pandas all arguments of DataFrame.drop except for the argument 'labels' will be keyword-only.\n",
            "  default_term_info = default_term_info.sort_values(\n"
          ]
        },
        {
          "output_type": "execute_result",
          "data": {
            "text/plain": [
              "PreparedData(topic_coordinates=              x         y  topics  cluster       Freq\n",
              "topic                                                \n",
              "3      0.058373  0.046816       1        1  41.355398\n",
              "9     -0.117241  0.085270       2        1  12.161190\n",
              "1      0.243985  0.077584       3        1   9.877461\n",
              "2      0.147174  0.075505       4        1   8.128642\n",
              "5     -0.009383  0.035778       5        1   6.299100\n",
              "7     -0.195826  0.204279       6        1   5.393558\n",
              "0     -0.117753 -0.127349       7        1   4.768300\n",
              "4     -0.085071 -0.152104       8        1   4.419409\n",
              "8     -0.062418 -0.117575       9        1   3.874113\n",
              "6      0.138160 -0.128203      10        1   3.722829, topic_info=         Term         Freq        Total Category  logprob  loglift\n",
              "374  facebook  6159.000000  6159.000000  Default  30.0000  30.0000\n",
              "307     apple  2884.000000  2884.000000  Default  29.0000  29.0000\n",
              "144       app  3269.000000  3269.000000  Default  28.0000  28.0000\n",
              "355    device  3154.000000  3154.000000  Default  27.0000  27.0000\n",
              "572       law  2844.000000  2844.000000  Default  26.0000  26.0000\n",
              "..        ...          ...          ...      ...      ...      ...\n",
              "532      case   146.905737  1192.731054  Topic10  -5.3054   1.1965\n",
              "26      could   164.166025  2251.170937  Topic10  -5.1943   0.6724\n",
              "572       law   152.867541  2844.281616  Topic10  -5.2656   0.3672\n",
              "457     right   133.619719  2089.677263  Topic10  -5.4002   0.5409\n",
              "124         u   131.428890  2135.109349  Topic10  -5.4167   0.5029\n",
              "\n",
              "[735 rows x 6 columns], token_table=      Topic      Freq        Term\n",
              "term                             \n",
              "2654      9  0.985362     9to5mac\n",
              "293       1  0.014103     ability\n",
              "293       3  0.304226     ability\n",
              "293       4  0.004029     ability\n",
              "293       5  0.046339     ability\n",
              "...     ...       ...         ...\n",
              "136       2  0.190844         zip\n",
              "136       6  0.804270         zip\n",
              "2652      2  0.997915        zoom\n",
              "1856      1  0.323765  zuckerberg\n",
              "1856      4  0.674870  zuckerberg\n",
              "\n",
              "[1903 rows x 3 columns], R=30, lambda_step=0.01, plot_opts={'xlab': 'PC1', 'ylab': 'PC2'}, topic_order=[4, 10, 2, 3, 6, 8, 1, 5, 9, 7])"
            ],
            "text/html": [
              "\n",
              "<link rel=\"stylesheet\" type=\"text/css\" href=\"https://cdn.jsdelivr.net/gh/bmabey/pyLDAvis@3.4.0/pyLDAvis/js/ldavis.v1.0.0.css\">\n",
              "\n",
              "\n",
              "<div id=\"ldavis_el1421398860716060646943688816\" style=\"background-color:white;\"></div>\n",
              "<script type=\"text/javascript\">\n",
              "\n",
              "var ldavis_el1421398860716060646943688816_data = {\"mdsDat\": {\"x\": [0.058372936572055396, -0.1172407954919111, 0.2439849662860329, 0.14717374101216474, -0.009382548397663247, -0.19582642803170017, -0.11775331406466671, -0.0850707627599468, -0.06241751487599228, 0.1381597197516271], \"y\": [0.04681598269781371, 0.0852700013735603, 0.07758375758438739, 0.07550524476963463, 0.03577773034405564, 0.20427912520304606, -0.12734920065043018, -0.1521040441723536, -0.11757525201406152, -0.12820334513565265], \"topics\": [1, 2, 3, 4, 5, 6, 7, 8, 9, 10], \"cluster\": [1, 1, 1, 1, 1, 1, 1, 1, 1, 1], \"Freq\": [41.355397548663866, 12.161190414826466, 9.877461345429642, 8.12864171211155, 6.299100184989028, 5.393557853921931, 4.768300018378086, 4.419409319002045, 3.874112826127518, 3.7228287765498713]}, \"tinfo\": {\"Term\": [\"facebook\", \"apple\", \"app\", \"device\", \"law\", \"said\", \"ad\", \"setting\", \"apps\", \"tracking\", \"microsoft\", \"office\", \"google\", \"personal\", \"firefox\", \"government\", \"call\", \"extension\", \"court\", \"consumer\", \"location\", \"feature\", \"internet\", \"security\", \"browser\", \"policy\", \"web\", \"end\", \"say\", \"phone\", \"brave\", \"interesting\", \"facial\", \"blockchain\", \"facial_recognition\", \"job\", \"concept\", \"proactively\", \"regulate\", \"stuff\", \"hacker\", \"ring\", \"safety\", \"coin\", \"extent\", \"proof\", \"interview\", \"victim\", \"explain\", \"many_people\", \"imagine\", \"answer_question\", \"tv\", \"worse\", \"debate\", \"economy\", \"co\", \"follower\", \"extreme\", \"eye\", \"decentralized\", \"hit\", \"startup\", \"ago\", \"chinese\", \"fast\", \"spread\", \"medical\", \"yes\", \"medium\", \"child\", \"someone\", \"public\", \"social_medium\", \"think\", \"enough\", \"model\", \"social\", \"founder\", \"idea\", \"human\", \"transaction\", \"approach\", \"technology\", \"community\", \"thing\", \"u\", \"kind\", \"even\", \"around\", \"tool\", \"ever\", \"really\", \"might\", \"say\", \"know\", \"access\", \"world\", \"way\", \"person\", \"video\", \"still\", \"platform\", \"year\", \"profile\", \"going\", \"question\", \"used\", \"take\", \"get\", \"tech\", \"want\", \"could\", \"see\", \"facebook\", \"right\", \"content\", \"need\", \"vpns\", \"ip_address\", \"zoom\", \"earth\", \"telegram\", \"internet_traffic\", \"contains\", \"hosted\", \"installing\", \"tl\", \"user_agent\", \"signal_telegram\", \"google_analytics\", \"doh\", \"ups\", \"unencrypted\", \"script\", \"www\", \"mapping\", \"solve_problem\", \"please_note\", \"external\", \"cloudflare\", \"deploy\", \"selected\", \"techcrunch\", \"bypass\", \"header\", \"minimal\", \"trip\", \"dns\", \"patch\", \"ip\", \"foundation\", \"duckduckgo\", \"weather\", \"checking\", \"client\", \"provider\", \"vpn\", \"anonymous\", \"map\", \"protocol\", \"android\", \"website\", \"article\", \"traffic\", \"address\", \"http\", \"server\", \"search\", \"google\", \"security\", \"signal\", \"sent\", \"internet\", \"com\", \"service\", \"name\", \"get\", \"network\", \"free\", \"based\", \"however\", \"using\", \"app\", \"may\", \"system\", \"web\", \"device\", \"clause\", \"ireland\", \"complaint\", \"californian\", \"irish\", \"schrems\", \"ballot\", \"commissioner\", \"california_consumer\", \"regime\", \"provision\", \"california_law\", \"remedy\", \"struggling\", \"mactaggart\", \"fundamental_right\", \"arguing\", \"dublin\", \"urge\", \"asia\", \"referring\", \"european_commission\", \"intelligence_agency\", \"alastair\", \"california_attorney\", \"estate\", \"austrian\", \"alastair_mactaggart\", \"real_estate\", \"vast_amount\", \"ccpa\", \"proposal\", \"california\", \"false\", \"european\", \"lawyer\", \"true\", \"law\", \"commission\", \"proposed\", \"advocate\", \"transfer\", \"privacy_act\", \"consumer\", \"regulator\", \"legislation\", \"court\", \"eu\", \"state\", \"federal\", \"comply\", \"standard\", \"protection\", \"europe\", \"effect\", \"data_protection\", \"change\", \"lawmaker\", \"general\", \"personal\", \"right\", \"personal_data\", \"tech\", \"facebook\", \"national\", \"said\", \"letter\", \"government\", \"whether\", \"case\", \"give\", \"business\", \"act\", \"reuters\", \"inc\", \"protection_regulation\", \"inbox\", \"general_data\", \"declined_comment\", \"file_photo\", \"declined\", \"indian\", \"mark_zuckerberg\", \"facebook_inc\", \"skeptical\", \"told_reuters\", \"facebook_ceo\", \"sued\", \"illustration\", \"advocacy_group\", \"unsubscribe\", \"alphabet\", \"poll\", \"earlier_week\", \"alphabet_inc\", \"california_resident\", \"comply_gdpr\", \"fine_percent\", \"instagram_whatsapp\", \"corp\", \"logo\", \"cambridge\", \"worker\", \"news_feed\", \"analytica\", \"cambridge_analytica\", \"firm\", \"privacy_policy\", \"gdpr\", \"facebook\", \"zuckerberg\", \"email\", \"policy\", \"said\", \"email_address\", \"post\", \"consent\", \"expert\", \"reading\", \"comment\", \"university\", \"last\", \"update\", \"month\", \"mark\", \"million\", \"fine\", \"year\", \"project\", \"regulation\", \"change\", \"many\", \"even\", \"need\", \"may\", \"website\", \"service\", \"consumer\", \"could\", \"dutch\", \"controller\", \"australia\", \"preserving\", \"privacy_preserving\", \"mobile_apps\", \"guarantee\", \"ministry\", \"collaborative\", \"singapore\", \"differentially\", \"differentially_private\", \"australian\", \"translation\", \"eight\", \"workplace\", \"large_number\", \"secrecy\", \"compute\", \"efficiently\", \"namely\", \"sole\", \"sum\", \"profiling\", \"statistical\", \"data_controller\", \"evaluation\", \"gate\", \"transformation\", \"collaborate\", \"microsoft\", \"negotiation\", \"carried\", \"office\", \"enterprise\", \"statistic\", \"output\", \"telemetry\", \"input\", \"module\", \"central\", \"processing\", \"contact_tracing\", \"distributed\", \"organisation\", \"risk\", \"tracing\", \"mobile\", \"window\", \"measure\", \"experience\", \"purpose\", \"employee\", \"government\", \"connected\", \"technical\", \"improvement\", \"app\", \"online\", \"apps\", \"via\", \"security\", \"customer\", \"research\", \"solution\", \"service\", \"level\", \"protection\", \"collect\", \"may\", \"personal\", \"firefox\", \"extension\", \"tor\", \"theme\", \"firewall\", \"container\", \"restart\", \"instruction\", \"edit\", \"installation\", \"index\", \"config\", \"browse_web\", \"fingerprinting\", \"compatibility\", \"widget\", \"ublock\", \"extracted\", \"ui\", \"browser_extension\", \"plugins\", \"bookmark\", \"redirect\", \"mozilla_firefox\", \"personalization\", \"tor_browser\", \"experimental\", \"customize\", \"git\", \"browsing_experience\", \"performance\", \"directory\", \"section\", \"dark\", \"tab\", \"mozilla\", \"setting\", \"recommended\", \"block\", \"fingerprint\", \"zip\", \"cooky\", \"install\", \"browser\", \"file\", \"site\", \"domain\", \"disabled\", \"changed\", \"version\", \"http\", \"option\", \"web\", \"list\", \"default\", \"feature\", \"download\", \"change\", \"page\", \"security\", \"facebook\", \"using\", \"managed\", \"remote\", \"internet_connection\", \"erase\", \"privacy_friendly\", \"preview\", \"infected\", \"public_health\", \"pre_installed\", \"virus\", \"covid_pandemic\", \"wi\", \"avoiding\", \"sits\", \"fi\", \"wi_fi\", \"infection\", \"outbreak\", \"proximity\", \"symptom\", \"device_id\", \"lockdown\", \"educational\", \"developer_conference\", \"iot\", \"coronavirus_pandemic\", \"volume\", \"restrict\", \"education\", \"communicate\", \"covid\", \"command\", \"management\", \"pandemic\", \"safer\", \"corporate\", \"id\", \"account\", \"manage\", \"identifier\", \"apps\", \"shop\", \"coronavirus\", \"device\", \"o\", \"capability\", \"cryptographic\", \"mail\", \"school\", \"personal\", \"end\", \"permission\", \"app\", \"apple\", \"location\", \"internet\", \"tracker\", \"business\", \"well\", \"option\", \"third\", \"email\", \"access\", \"policy\", \"need\", \"work\", \"help\", \"feature\", \"ii\", \"skill\", \"regular\", \"wifi\", \"sync\", \"automation\", \"send_message\", \"activated\", \"siri\", \"hint\", \"voice_assistant\", \"ubuntu\", \"messaging_service\", \"robot\", \"logic\", \"spec\", \"screenshots\", \"presumably\", \"python\", \"smart_home\", \"respective\", \"imessage\", \"unlimited\", \"switched\", \"text_message\", \"help_center\", \"supported_browser\", \"incoming\", \"wikipedia\", \"kit\", \"music\", \"echo\", \"messaging\", \"voice\", \"open_source\", \"audio\", \"call\", \"message\", \"speaker\", \"mention\", \"alexa\", \"receive\", \"array\", \"text\", \"iphone\", \"display\", \"functionality\", \"mark\", \"smart_speaker\", \"whatsapp\", \"hand\", \"support\", \"device\", \"source\", \"home\", \"smart\", \"assistant\", \"communication\", \"amazon\", \"feature\", \"work\", \"apple\", \"google\", \"service\", \"phone\", \"open\", \"developer\", \"offer\", \"app_store\", \"antitrust\", \"demographic\", \"marketer\", \"cook\", \"anti_competitive\", \"quarter\", \"prevention\", \"9to5mac\", \"tim_cook\", \"apple_ceo\", \"retail\", \"short_term\", \"check_9to5mac\", \"iphone_ipad\", \"buried\", \"income_earning\", \"auto_affiliate\", \"greatly\", \"idfa\", \"privacy_label\", \"jason\", \"jonathan\", \"inadvertently\", \"tracking_transparency\", \"rep\", \"competitive\", \"nutrition\", \"nutrition_label\", \"label\", \"rolled\", \"google_chrome\", \"safari\", \"intelligent\", \"location_tracking\", \"advertiser\", \"apple\", \"ftc\", \"pop\", \"targeted_ad\", \"ad\", \"two_year\", \"tracking\", \"anti\", \"targeted\", \"ceo\", \"app\", \"store\", \"io\", \"developer\", \"feature\", \"market\", \"cost\", \"apps\", \"location\", \"party\", \"ability\", \"say\", \"said\", \"google\", \"third\", \"third_party\", \"device\", \"two\", \"track\", \"browser\", \"based\", \"tech\", \"year\", \"supreme\", \"supreme_court\", \"pt\", \"ruled\", \"cellphone\", \"snowden\", \"victory\", \"rival\", \"edward\", \"appeal\", \"cnet\", \"edward_snowden\", \"government_surveillance\", \"circuit\", \"deep_learning\", \"ap\", \"precisely\", \"ryan\", \"digital_age\", \"tower\", \"fails\", \"decree\", \"expanding\", \"rejected\", \"quantity\", \"promoting\", \"superior\", \"consent_decree\", \"aid\", \"demonstrated\", \"lab\", \"liberty\", \"acquired\", \"plaintiff\", \"fellow\", \"warrant\", \"fourth\", \"police\", \"decision\", \"amendment\", \"historical\", \"record\", \"civil_liberty\", \"wyden\", \"court\", \"hotel\", \"trial\", \"friday\", \"location\", \"apple\", \"camera\", \"said\", \"phone\", \"june\", \"google\", \"american\", \"digital\", \"law_enforcement\", \"technology\", \"device\", \"major\", \"surveillance\", \"government\", \"enforcement\", \"ai\", \"case\", \"could\", \"law\", \"right\", \"u\"], \"Freq\": [6159.0, 2884.0, 3269.0, 3154.0, 2844.0, 3560.0, 2203.0, 1830.0, 2300.0, 1798.0, 1392.0, 1219.0, 3293.0, 2948.0, 953.0, 2211.0, 1054.0, 881.0, 1177.0, 1669.0, 1418.0, 1742.0, 2039.0, 2390.0, 1286.0, 1799.0, 1523.0, 1113.0, 2123.0, 1524.0, 420.3320881725619, 366.0612673438642, 382.2734200286894, 353.85279891803293, 346.80790343742746, 309.9673652314921, 266.91341916539045, 249.7457196367167, 236.80429921668923, 222.35834501615582, 221.47227057209133, 208.6654517308247, 229.52716578825158, 194.29599178926583, 184.58749656656894, 193.50407148437435, 182.9649687652786, 180.82251725378964, 176.15275129452536, 170.88612730406783, 169.39213587891328, 168.72195968854282, 162.58780125825947, 160.2948581024573, 167.03436010766958, 187.22189915028235, 585.4587411567762, 149.10263637955333, 147.58452764238342, 148.1184281050035, 332.89566793476666, 287.88193436178574, 234.48819540543715, 256.90110895063333, 199.40733128601718, 204.26661091089997, 214.30633890282326, 208.1737876555699, 197.09888072728884, 1451.5832222701206, 326.45193543989905, 859.9747865804379, 1314.9011833432246, 1005.6477135071445, 1681.8914790109425, 622.1072209906289, 1276.2328953695755, 1724.721529174463, 355.545583577491, 580.8980531791061, 591.3543094396326, 483.3106266576928, 458.6218080101254, 1435.450165950128, 611.8365178375398, 1275.5160917382043, 1517.8766140208484, 682.0345224933421, 1789.1802832302058, 906.0315245404821, 1005.6418205027013, 623.0422953839765, 696.2547248775574, 740.4289157818179, 1373.5652007181109, 1247.17119956127, 1278.614970217582, 908.7765166231632, 1263.3800230812474, 718.7806960956601, 879.2423090040435, 917.9631748225305, 939.114009627172, 1394.423528211296, 830.7937000327624, 863.8022547000734, 937.5006274626476, 1226.504662576329, 963.9012873684571, 1157.6202621836974, 1072.7485999316498, 1003.8182800238756, 1141.6326941941807, 1021.1349883791861, 1694.7272080136174, 1049.6765691459798, 966.8023292700967, 975.0464128886432, 738.5595648284678, 427.5643811203721, 380.074531941879, 268.66912402809004, 227.39983568627423, 202.3588605854066, 183.3556223590861, 170.3302224444754, 161.12321806415886, 155.29853012633916, 151.5031690384339, 122.02535671343927, 112.22821139202861, 102.02908291070062, 101.14669594754193, 96.34503225229886, 189.99826382575927, 92.89491779343997, 91.51353180346509, 87.65137982325822, 87.66037642310577, 97.158810998734, 86.56302192375244, 78.85036459353536, 71.13751596601071, 122.16513878136449, 69.69940469794767, 68.6749400991728, 64.85209408928175, 64.34150469618292, 598.7914953650337, 458.87686965842954, 482.82868791221273, 589.4185574495679, 257.3521328507581, 342.6577688245858, 196.59426250773186, 361.96153512111067, 591.8230520779903, 570.1746334519663, 220.48090464354505, 266.0940822235707, 211.86712446680946, 595.0182572481107, 1157.2860553498858, 364.12632297035566, 665.4714352282194, 881.8694251722217, 648.5675499191697, 834.2457579006866, 780.6940346285431, 1457.1810890051802, 1144.5906657964122, 311.418130802367, 432.9392953297285, 882.9188146848957, 484.3099142175689, 1040.6494312630798, 427.752032526323, 774.0907216377514, 661.7171467975294, 485.0173991776877, 541.7070284499406, 524.4060999526221, 599.1116145300906, 642.7780831915098, 537.5909855578385, 508.0170069510463, 442.2521883961806, 445.5102291054488, 395.1688016626955, 290.09854457396153, 278.16078284942535, 249.23957378013583, 222.940400055971, 218.08796302696197, 201.659383350211, 171.61164028285475, 152.04152800765587, 127.87225646354814, 121.27284083686209, 117.67516698368415, 105.39418428177203, 102.50795844395626, 91.43371923861837, 86.51246070507865, 86.4956437637325, 84.45598640913836, 79.5344628259796, 79.1285713231632, 78.7157885302517, 77.92443262456922, 76.28499105508716, 74.65357409131266, 74.24927745603154, 74.23752387637332, 73.8380895306553, 72.61214364616356, 72.19325557237204, 71.78204022806969, 198.632498421462, 226.5483651460814, 832.5127374102453, 822.8046096396624, 721.2666962428334, 221.03940935034623, 884.6803518087048, 2018.6992048829427, 306.79445878026394, 253.34656332540894, 228.70835502772084, 354.24715120378727, 228.92551292249493, 1093.9795436574798, 316.0604106691477, 249.88815933757476, 678.1590262017675, 440.9195830634211, 766.8994665855909, 267.13755198629, 247.68258092146004, 506.25164538191353, 692.4809915063689, 311.70387233772504, 368.6583194146596, 394.9864840833624, 613.6111451699593, 303.11094540908437, 463.07487964705575, 733.1790132039416, 608.2708523283554, 451.3594305754019, 508.8821074769953, 703.3731781819928, 316.16346927274503, 526.5797447297216, 336.95652049020583, 442.81455988458623, 342.31929685121804, 361.6472268917484, 353.3552318167833, 360.2745988922217, 335.98600018169265, 242.6094319759541, 164.3887277139098, 102.74537672952313, 101.06957411604834, 105.12173513094358, 102.6494330566934, 84.3472974542512, 123.86017526250988, 79.02388277436194, 208.59746012944706, 63.20040487517128, 61.83603184348951, 66.23526661276635, 56.26292744057351, 45.48985422875587, 70.17994604372171, 41.00268237490009, 46.470174275304416, 56.067324496420945, 38.553083810875414, 36.84478475349494, 36.84872599562122, 36.82374348470056, 35.46353357805103, 35.12262365558255, 34.77515878557008, 37.08586993264292, 41.67915822645781, 443.7417432738759, 254.4638308459878, 65.05750462645479, 316.36176049878685, 265.21644194100287, 440.93257029819125, 609.5263325884783, 652.7710251456012, 3306.6511183990883, 469.482356630401, 846.7634754735955, 948.0535786338088, 1582.42207180311, 176.08768820649763, 602.1800377800054, 283.7738857929381, 193.04361885045657, 166.87908127881468, 252.95869755519877, 181.01151809783622, 417.2828009325647, 364.2535987242384, 304.30519997632933, 264.5020241125253, 336.7516713387163, 208.91533183696745, 470.0576877233841, 281.33299331242705, 287.3157687742971, 322.99129078499703, 313.65818874343216, 359.66289405002345, 327.64003100166684, 318.65869234132657, 297.8274827265252, 310.99782022237775, 271.56235322321, 265.68999271251124, 246.9897444319466, 196.40051415498746, 187.016742105762, 142.20617056901744, 133.52434542246806, 98.65141206997693, 134.8823450309981, 83.66862960850854, 78.08544377644999, 66.8848642076912, 65.33457992134062, 65.33457992134062, 69.5319521866224, 61.527966957981974, 46.9653402147019, 45.415644614391326, 43.84816311852545, 58.04077737136169, 41.63087714883417, 40.955587232336136, 39.386613621358954, 39.594005964681486, 73.85952898108978, 83.89163087475328, 27.958157183657743, 29.9484697134779, 24.171179231163237, 23.49673882942095, 23.062179246120067, 23.053121641108454, 1265.746514286002, 76.03573224233553, 27.407954307799486, 1083.5527311916617, 218.89690054519468, 209.99242384687977, 201.62998127704617, 299.61198154806317, 228.68125887320915, 65.32213008588064, 166.44931083999703, 318.82613435076746, 119.12773105675764, 102.06622241654945, 183.94472189171393, 413.5807362646221, 125.44371443713347, 421.0690092079166, 375.3824495293411, 237.6288670239603, 293.1792867888247, 361.91000230354786, 240.43234148942085, 577.5811598067818, 242.44452865991576, 211.37211741027033, 170.54318510515577, 581.1855503725357, 441.4898634782942, 456.8873723406611, 245.441395232381, 361.91394242001365, 254.13499409973056, 236.22618556213615, 243.2010077070504, 324.67149529931726, 238.29717139373608, 222.19857825774184, 209.5449525135776, 213.29361195915604, 210.7022509824874, 952.7925425789547, 881.1508205174034, 397.7486412710434, 251.26184330233025, 248.4168198394693, 201.23800358646827, 141.77544214854518, 133.6037027979143, 114.3385039579964, 106.19762693448148, 84.26007196571902, 74.60877748150128, 71.56737100246757, 78.50019054075176, 59.7055323945272, 59.488173576144156, 57.30338132951051, 57.05834922460452, 49.155866709769164, 48.2902892271265, 44.56533011294363, 41.94019074943608, 40.17599752323426, 39.749354796764685, 62.88069891420798, 25.916274876422758, 25.450043629602728, 23.940604340975376, 22.815641575421314, 22.190751816094334, 318.7179470902371, 246.96932479472343, 654.1265441177471, 218.29642626142368, 95.08661025457445, 463.10351166466177, 1242.167543264193, 138.21872863134365, 530.9492473417336, 141.961674134098, 177.42494340185425, 351.30355388812427, 273.3197234177236, 656.0524651208764, 376.93577458077306, 486.15251964485424, 322.88841367805935, 157.81228386684154, 171.51426876637467, 440.3745855427985, 309.106268575076, 244.70569487321097, 350.62154836187, 232.07685457260112, 230.22587352807034, 315.56541826716006, 205.17291036836033, 287.0487278255047, 216.5487322029847, 243.67362352010986, 271.885523528126, 222.8222088649877, 536.9210016523908, 141.4196163822484, 95.84238811444985, 93.24436356975906, 86.13962208266824, 50.87719163254373, 48.9848064342971, 48.98243712528427, 47.563238675081166, 41.56302757583538, 38.65815324731677, 48.44686739747826, 36.40261960043085, 35.678072109155224, 53.11567243150673, 48.321461680398606, 23.034660477306502, 21.154229921090185, 18.943461654547306, 17.431750952847292, 16.5526479636344, 14.321666667454567, 17.3011356238181, 42.1700074831064, 36.70491386925728, 10.528280501548265, 161.3935002331434, 76.71428139932044, 86.66192015030553, 93.437164436133, 126.13918808578167, 131.58002165194537, 231.5627794723826, 88.60113560155442, 177.29266673952398, 198.11316602918728, 370.0643248720018, 592.225527345102, 173.81056784820836, 193.04381540835794, 968.4625507773322, 79.16794134270785, 86.87581977962057, 1001.9751163639077, 181.12574103745578, 157.14063908843872, 95.94263150508594, 203.1879876801394, 141.26132712685842, 659.4620167658334, 340.1504617122935, 179.7490180767621, 568.258815116691, 523.3386575666341, 329.842970367106, 355.0571127604712, 152.65827705432702, 277.2797307901223, 216.7231397189664, 177.9701038081096, 205.60205324907398, 210.16348049270147, 219.67763717312252, 203.86508942752397, 207.0847553577905, 184.31792827771875, 179.0305306337716, 172.7998920996948, 255.40103821896187, 217.4336837072138, 161.28785798095166, 91.32676151361146, 77.17504839979281, 68.2608262921657, 65.79695043853916, 62.8183022970975, 54.36576120513037, 54.35105202343569, 52.623604416639616, 49.15772536595212, 48.65468934487699, 47.16814599240815, 46.919288066021934, 46.67843288319326, 44.18152373244979, 43.941866712044394, 39.93997559324651, 29.55588830872512, 27.52609893139918, 26.567401331821305, 26.07084070391091, 25.822489849676526, 31.30405840043579, 19.604094346160963, 18.62913363410054, 28.774715033787025, 26.723781974517156, 51.89005503105826, 77.42691604475765, 254.48338483864157, 237.00393712117727, 420.60153035211437, 199.0182298689661, 165.42214809216782, 800.0747983267877, 459.5078352745597, 310.0151461890351, 155.80441244537232, 182.9444842993774, 180.0784797828903, 121.1188452574474, 253.61107352299476, 340.57929635553387, 130.3350615458229, 129.50961351130508, 333.64951747126764, 143.8009677528718, 217.74782308385684, 209.41302905269495, 359.8036120617846, 710.651871921562, 252.89253592668257, 284.2127633858953, 224.2961037811173, 161.43065604177406, 243.19973724424972, 256.87758325359823, 351.1666357424632, 307.22569321030846, 333.4891518139592, 342.84365158528914, 329.1759306618111, 247.44898551943606, 212.0758448507931, 201.22536773139532, 190.3126515946517, 267.97542215056865, 130.29895508300532, 131.01499717348534, 106.24877647850079, 104.395529867247, 92.13166188562437, 77.55859150016673, 125.29794517089816, 65.2180677119136, 58.443535521673766, 42.18675102884258, 42.12518692376066, 37.53428772796287, 35.47312335387827, 35.47008708993251, 34.70060747095266, 34.05932486640973, 34.05932486640973, 34.324913720573846, 29.409492755301194, 28.70615852277596, 35.41225468587483, 35.17547986901411, 37.01913016553024, 16.332579964931575, 38.94995027357992, 109.9022802634096, 14.188534009236815, 13.137214175292282, 79.13331197676025, 44.11980083721606, 73.95831374485245, 400.76298089529473, 116.0376699312501, 126.5167237440327, 322.9358288021079, 1119.9842942421462, 151.60688906741152, 89.86612145919112, 119.73099286599295, 797.8755623794433, 100.10055348725321, 657.2724666630759, 114.64555545866688, 169.12398836754426, 280.0026981364182, 859.6724739852061, 323.5518570034656, 271.95154421480447, 325.2011182976365, 339.00745138042896, 156.05414465923016, 145.92379160094498, 314.49835599866884, 255.68892737080478, 226.77338493176964, 155.18970920121953, 234.62433900823282, 267.18357024907937, 253.58721614726278, 187.14237592053925, 181.95805739788887, 211.49020159463515, 170.46861954352127, 163.32378503262447, 158.77490959389408, 158.5667229765226, 163.01059458585627, 163.14027567735758, 278.2051042390812, 277.9463075371476, 158.24438638140512, 95.58895664496204, 92.49217342861309, 82.87751494264472, 84.68440700479773, 85.3505239764501, 63.44021812729486, 58.53029408378774, 56.7352932767603, 52.592616989371614, 51.04280614680787, 50.5275586133754, 46.91583789052366, 39.092490891119375, 31.045597251687678, 30.320513158007575, 30.569302879599373, 29.789054660895786, 29.771624257959676, 30.055529696454776, 29.277444776771713, 29.2757396286584, 29.013102037540282, 28.75439662131378, 27.971206591521764, 28.252773049069507, 27.713837735836606, 27.454865351976203, 95.19034468722396, 71.74242238807291, 51.79490047555162, 32.73079340970496, 33.1280205804904, 150.60080333006817, 150.38155228538886, 171.2788554760012, 332.9181607483233, 157.3625182246353, 86.02260035463993, 271.14156090473904, 35.7337555876413, 75.83862219395687, 444.5157023823816, 44.401970752128314, 71.94391233442445, 79.0666432543888, 361.2959314883298, 532.1253719270471, 160.66255509609138, 510.891200364117, 285.02486995386164, 83.44845364688116, 354.9000897077251, 128.9212401904529, 186.00547911081435, 130.93878521710175, 214.3510070501327, 249.67645372662383, 113.954531701285, 159.74345614980902, 208.21451313044773, 133.16377270715225, 137.8132672402294, 146.90573703428382, 164.1660247493251, 152.86754111331743, 133.61971897842164, 131.42888956653607], \"Total\": [6159.0, 2884.0, 3269.0, 3154.0, 2844.0, 3560.0, 2203.0, 1830.0, 2300.0, 1798.0, 1392.0, 1219.0, 3293.0, 2948.0, 953.0, 2211.0, 1054.0, 881.0, 1177.0, 1669.0, 1418.0, 1742.0, 2039.0, 2390.0, 1286.0, 1799.0, 1523.0, 1113.0, 2123.0, 1524.0, 420.98955990694424, 366.71830653676903, 382.9926200693122, 354.5217136748172, 347.5083477814062, 310.6254626109932, 267.5728677202146, 250.40266641122088, 237.46252683963633, 223.01532942255244, 222.14015295959112, 209.32248987492378, 230.32114978992473, 194.97134095758017, 185.24477287761533, 194.19504629989476, 183.62613928856547, 181.4794828169911, 176.81704978140613, 171.54523019309124, 170.04921098509485, 169.37898492173915, 163.2448295675891, 160.9626017945648, 167.7385491810018, 188.0298600494619, 588.0297366708567, 149.75957308305576, 148.24148908157505, 148.78215642478756, 335.36407077296417, 289.7038300165564, 235.76660084903716, 258.64110324687914, 200.37050261967633, 205.3100409859419, 215.5266887082074, 209.44257802741888, 198.2040062826261, 1534.8205244639, 332.7784706910398, 918.516091696214, 1436.1710780978844, 1086.5092204760085, 1878.24642227952, 662.1088122759767, 1422.172090757228, 1959.5770320229717, 373.46141392405497, 638.2603628168731, 662.7210839978688, 531.2648316320472, 509.2299747243542, 1901.9576075559235, 717.6341257260109, 1701.8305667091058, 2135.109348858113, 826.0736276375617, 2661.8907853808582, 1178.6997324128051, 1340.657729702059, 748.818423994853, 876.3121315753286, 950.0025038520587, 2123.06570748343, 1871.9536162988563, 2012.8741124297528, 1274.3678410991226, 2003.6827225797617, 925.1456178590033, 1229.5261096128174, 1312.1794232601571, 1365.6538196069316, 2462.1578823701316, 1160.9546736500408, 1237.7059512260143, 1429.163716008084, 2322.03492733028, 1574.6326546115802, 2300.795781170379, 1978.9485827516178, 1731.2186528481743, 2251.1709373295457, 1794.2102068060879, 6159.934281151081, 2089.677262905992, 1630.9799378114715, 2219.515034415242, 739.277936311058, 428.2836952692041, 380.7941114103897, 269.388359641774, 228.12047327466485, 203.0771855743434, 184.07610287402775, 171.0489181941307, 161.8475279047704, 156.01707797892536, 152.22259667565348, 122.74382418075794, 112.94971258803275, 102.74787346370623, 101.86549500713213, 97.06364801538244, 191.43902551365727, 93.61383549941262, 92.23206941779145, 88.36974314132607, 88.37961633592921, 97.95630626363322, 87.2819438434331, 79.57126201746696, 71.85762516836644, 123.41251453616897, 70.41794806593927, 69.39454313376356, 65.57273569993771, 65.0637497660961, 620.0469607565402, 476.91755977762114, 527.118361773586, 661.3558425725786, 278.2047544575566, 382.61050251999166, 216.12952358606805, 427.4093837799763, 751.1285286786837, 721.9124383274142, 249.18624189280507, 309.64139681475547, 241.3495609303079, 802.7700103983219, 1777.3132329286166, 457.48624361162297, 943.2932932138767, 1361.6543392775613, 958.3448513466395, 1311.7607530235377, 1213.3181026309003, 3293.3580465126797, 2390.35783564114, 406.87116551745646, 676.5618476300167, 2039.4231910024494, 854.2316998308905, 3309.031314640125, 742.6347129882241, 2300.795781170379, 1782.3222601405082, 974.9994745598545, 1280.0073078906878, 1204.3819441814283, 2009.865850080321, 3269.758369461414, 2156.2556520563694, 1650.4365444614189, 1523.0746745189422, 3154.8384024975985, 395.90402955968915, 290.834749366497, 278.9016380673326, 249.97457256627496, 223.67588968465114, 218.8229882731951, 202.39441024831777, 172.34993057250992, 152.77662630833007, 128.61830861642648, 122.01792366388833, 118.41017041816332, 106.12922301155521, 103.24303207501406, 92.16872479644786, 87.24761131630498, 87.23080254204783, 85.1912716054448, 80.26962555351044, 79.8639636610246, 79.45139239439966, 78.65947775628106, 77.02001857090835, 75.3885836715099, 74.98427162116224, 74.9725539529469, 74.57311166147049, 73.34713890218653, 72.92827861227111, 72.5170806463663, 200.78722729954137, 230.6560466017615, 938.100371229428, 943.0729283707932, 901.6466422859406, 246.27373828361578, 1139.2722657301767, 2844.2816159425265, 358.5529753609013, 292.17540734279964, 261.3160997521557, 431.44483026921324, 270.0690989641097, 1669.8436925743008, 409.3139689379554, 309.57067862310464, 1177.8608608709, 679.4987177943431, 1422.9776765339302, 358.8550165452145, 323.5481124165963, 895.4782516103008, 1423.5024273463462, 453.79441537877807, 597.0638499889069, 671.5055793829748, 1661.9061304658185, 450.15877250326247, 1123.7671229393568, 2948.012343554921, 2089.677262905992, 1171.2316248563668, 1978.9485827516178, 6159.934281151081, 587.7322282294543, 3560.4950694348327, 739.0240731955627, 2211.1544588010092, 878.190859588689, 1192.7310537805647, 1384.9895783972931, 1751.213016675453, 885.5656881328007, 243.3955188833121, 165.2245037519352, 103.50023262148987, 101.8194232587745, 105.9640509394113, 103.51597823210638, 85.1309578095065, 125.1484765756676, 79.88277820184666, 210.9454330882111, 63.95107848764064, 62.587006853534845, 67.0808812162398, 57.01438424716527, 46.26215161612606, 71.41768762630346, 41.75219995393282, 47.36252079196143, 57.16707276971595, 39.310743226343654, 37.59415241035786, 37.601371562404594, 37.57592458677741, 36.21269730860076, 35.87175400618046, 35.52435571394344, 37.91230136959907, 42.918742695457034, 457.05515398879106, 263.42770424240035, 67.47802796487996, 353.35413771321055, 296.0611468656954, 530.6913828785929, 846.2384220060517, 967.8612962062106, 6159.934281151081, 694.9486565154435, 1393.0496891819405, 1799.1055751005688, 3560.4950694348327, 254.83997892778532, 1289.9815100984026, 543.1679719465643, 319.80587424152475, 261.01700618451696, 479.46923361345796, 318.60789382743667, 1177.16818173885, 1067.4276635233678, 793.0296078602421, 623.5472055878071, 1019.9126110487164, 440.27076140726695, 2462.1578823701316, 896.2006964880634, 985.1251724301634, 1661.9061304658185, 1589.4432196516352, 2661.8907853808582, 2219.515034415242, 2156.2556520563694, 1777.3132329286166, 3309.031314640125, 1669.8436925743008, 2251.1709373295457, 247.76689130366822, 197.17832801955254, 187.79631506556737, 143.03809409633263, 134.30760030444995, 99.43364881745269, 136.0892445604122, 84.44932522850884, 78.8626144920777, 67.67029415976988, 66.11158114096224, 66.11158155740011, 70.37941836514646, 62.30518701555154, 47.75328191959084, 46.19349234044328, 44.62675950140882, 59.08247657901996, 42.40789634590453, 41.73260889453228, 40.169099528861395, 40.39528337010539, 75.4726404209057, 86.07598141196866, 28.73608070874336, 30.796193306658115, 24.94900423427094, 24.274362323968088, 23.839223713026634, 23.830582690165503, 1392.5885056024374, 80.1420199744857, 28.400296004653896, 1219.9723287845711, 238.39851589332525, 229.25229485817482, 224.6723956125237, 341.5428478766306, 272.819703603544, 70.92686352635766, 206.48937120644555, 452.1532860214998, 143.7130054785468, 120.99296182745894, 253.66180787233594, 718.0092443580195, 161.78472434338488, 848.2406148694579, 729.0954170840674, 399.7971815347224, 551.2805857309344, 827.4321418457214, 474.02486231406846, 2211.1544588010092, 520.6528950275231, 464.3112590339977, 315.5294485792958, 3269.758369461414, 2133.5656523560356, 2300.9948223592846, 680.2619629830308, 2390.35783564114, 851.5769772231259, 698.1001617117444, 832.8390622752439, 3309.031314640125, 1052.7769838410775, 1423.5024273463462, 769.2642091691565, 2156.2556520563694, 2948.012343554921, 953.5707339724471, 881.9289947149127, 398.52833832984265, 252.0410014551526, 249.19475911224205, 202.01590762660103, 142.55340708276097, 134.38198786972305, 115.11656542831987, 106.97564959829711, 85.04103374315353, 75.38669319520459, 72.34540629820593, 79.40756544994092, 60.483485409397574, 60.2661035241515, 58.08127717385876, 57.83637912020269, 49.93408342786929, 49.06828956989496, 45.34325698515452, 42.7180874301453, 40.953962725550575, 40.52725078230161, 64.25215095918772, 26.694223954029862, 26.228154196592314, 24.71854769785445, 23.593768543275047, 22.96874684726502, 345.0736241667028, 284.53356123717384, 794.215419452569, 261.4977282172557, 107.60844201636596, 610.3517104430149, 1830.9797798495256, 161.9062861187114, 737.0360490499191, 169.9125440165265, 220.07543132869927, 489.3709518152109, 382.3868972917988, 1286.1388954890376, 648.1267868914618, 943.9817373379974, 574.7735284679966, 223.61936368617927, 256.1316459246306, 1065.6549981956268, 958.3448513466395, 651.852368090031, 1523.0746745189422, 622.5425860216473, 653.9129775018213, 1742.993803951165, 488.505882100771, 1661.9061304658185, 623.8076119290232, 2390.35783564114, 6159.934281151081, 2009.865850080321, 537.6652101606176, 142.1636141558819, 96.58618022976692, 93.98816883766611, 86.88484474612767, 51.62297028326225, 49.728763197237946, 49.726549353665305, 48.30696618424439, 42.30776830833228, 39.40202618561372, 49.40232017099526, 37.14866904238372, 36.421938786983176, 54.27614679916584, 49.45233830229539, 23.778553494063313, 21.916695977885844, 19.687283336493046, 18.177958269584945, 17.95295455042663, 15.569052431211944, 18.93925523298893, 46.189121551865675, 40.33006951370066, 11.94895617620932, 184.06251186446647, 88.28045572239384, 102.91624243137298, 110.9925063098244, 154.84057097361787, 162.71234860560378, 301.4551196502233, 113.35991284487795, 249.57169357883112, 286.41989858486596, 607.9423429105674, 1051.0028922028634, 254.49311044326004, 302.8538059853913, 2300.9948223592846, 101.58944465655941, 114.76107423994144, 3154.8384024975985, 328.58596372974546, 278.2556576881807, 136.87509164426163, 433.1309778844843, 248.78277863498528, 2948.012343554921, 1113.8496407583618, 422.24687086565797, 3269.758369461414, 2884.252498237228, 1418.2084518867148, 2039.4231910024494, 358.6977889678414, 1751.213016675453, 1094.1799744094742, 651.852368090031, 1089.9763808988114, 1393.0496891819405, 2012.8741124297528, 1799.1055751005688, 2219.515034415242, 1641.0474039279673, 1369.7011600334392, 1742.993803951165, 256.17265304153324, 218.2052330756915, 162.06339478842605, 92.11842084237031, 77.9467801063889, 69.0324308604103, 66.56841426228642, 63.589781269944815, 55.137224817234895, 55.12283388885184, 53.39510824315961, 49.92921979774285, 49.43321010491723, 47.940099554515285, 47.69093569121289, 47.450125028452916, 44.95320347071599, 44.71348123928378, 40.7138963024669, 30.327370564133847, 28.305426428111815, 27.341031038888016, 26.842683841845105, 26.59425580154292, 32.39601766643574, 20.375595087017526, 19.40055614180844, 30.599777956608555, 28.44067492917622, 55.57857822633924, 83.44117868684728, 282.0267796172277, 270.24638359364417, 506.5853749015792, 231.89173796494669, 190.88307788954177, 1054.2659664573016, 587.5613566299035, 386.870562174582, 198.49289029643896, 248.41089711240858, 246.39023684749287, 153.69884678582972, 387.25392207335466, 568.1579595041192, 175.08530686990548, 177.46572906085746, 623.5472055878071, 211.2652569637009, 412.18456009578784, 413.28469819681703, 985.0580403723815, 3154.8384024975985, 598.2179942384806, 757.7128566073887, 514.0584396302818, 292.99462437353213, 656.8721329524069, 770.8147176063864, 1742.993803951165, 1641.0474039279673, 2884.252498237228, 3293.3580465126797, 3309.031314640125, 1524.893921702867, 943.9836061366324, 952.6158392523464, 808.8724462520082, 268.72551805506026, 131.04669446519478, 131.76962611692952, 106.99779573898753, 105.15106898667464, 92.87924778508813, 78.30633443886332, 126.58677038399797, 65.96562146988813, 59.19130439565324, 42.93438549295395, 42.88883463060055, 38.2820850085412, 36.22067962637705, 36.21766606302619, 35.44900144072137, 34.806878221888844, 34.80687896913409, 35.11020537745635, 30.157081774281973, 29.45393098370088, 36.39093312751178, 36.18841297913781, 38.646501956457044, 17.08015085020788, 40.92672486031585, 115.6647617999583, 14.936511428495077, 13.884967447310089, 83.65398989008698, 46.83719449243184, 79.57617764328764, 496.1748521555485, 137.2528515848337, 151.30465340101586, 556.3375253649635, 2884.252498237228, 230.0335197257932, 120.71845518685919, 175.602410523612, 2203.4149629150115, 144.07586309969815, 1798.3220856071675, 174.45526868440876, 301.310561863462, 622.3236501438813, 3269.758369461414, 816.9770378913847, 680.2591791939595, 952.6158392523464, 1742.993803951165, 427.6064874806178, 368.29953682866807, 2300.9948223592846, 1418.2084518867148, 1282.6720715254987, 496.3408173850534, 2123.06570748343, 3560.4950694348327, 3293.3580465126797, 1089.9763808988114, 987.2973703582667, 3154.8384024975985, 1259.9475039894974, 1018.1586217521967, 1286.1388954890376, 1280.0073078906878, 1978.9485827516178, 2462.1578823701316, 278.97682264075195, 278.71841575885804, 159.0134480939177, 96.369773940831, 93.26198997424737, 83.65296284488471, 85.53655861184089, 86.26944279316419, 64.22585563284647, 59.32319961309286, 57.50441332201555, 53.363304974717494, 51.820083144606336, 51.297259910486055, 47.68484291784176, 39.86602903854025, 31.815562657485163, 31.090044384882113, 31.3511827921993, 30.559437686373343, 30.54538812341349, 30.840647068924987, 30.047724652480557, 30.046850623098756, 29.78225243231464, 29.525432449033143, 28.74053549740564, 29.030966979275597, 28.48306725183456, 28.226213942134503, 99.42930375193295, 76.16552106438698, 56.053307986087425, 34.18863971187861, 34.721377640077804, 198.06973006084408, 210.472659810768, 255.89464209987796, 579.7861015419417, 240.70063033004087, 116.88060725689407, 519.5536738514717, 38.57164680421966, 106.08016844672949, 1177.8608608709, 52.3553347460726, 104.05214535312496, 121.05428800106928, 1418.2084518867148, 2884.252498237228, 416.8025097535593, 3560.4950694348327, 1524.893921702867, 139.00202225125656, 3293.3580465126797, 371.72876018188174, 1025.0884313621275, 426.7377347822702, 1901.9576075559235, 3154.8384024975985, 341.276894993471, 958.9276231831964, 2211.1544588010092, 608.1610711160508, 868.2008906039629, 1192.7310537805647, 2251.1709373295457, 2844.2816159425265, 2089.677262905992, 2135.109348858113], \"Category\": [\"Default\", \"Default\", \"Default\", \"Default\", \"Default\", \"Default\", \"Default\", \"Default\", \"Default\", \"Default\", \"Default\", \"Default\", \"Default\", \"Default\", \"Default\", \"Default\", \"Default\", \"Default\", \"Default\", \"Default\", \"Default\", \"Default\", \"Default\", \"Default\", \"Default\", \"Default\", \"Default\", \"Default\", \"Default\", \"Default\", \"Topic1\", \"Topic1\", \"Topic1\", \"Topic1\", \"Topic1\", \"Topic1\", \"Topic1\", \"Topic1\", \"Topic1\", \"Topic1\", \"Topic1\", \"Topic1\", \"Topic1\", \"Topic1\", \"Topic1\", \"Topic1\", \"Topic1\", \"Topic1\", \"Topic1\", \"Topic1\", \"Topic1\", \"Topic1\", \"Topic1\", \"Topic1\", \"Topic1\", \"Topic1\", \"Topic1\", \"Topic1\", \"Topic1\", \"Topic1\", \"Topic1\", \"Topic1\", \"Topic1\", \"Topic1\", \"Topic1\", \"Topic1\", \"Topic1\", \"Topic1\", \"Topic1\", \"Topic1\", \"Topic1\", \"Topic1\", \"Topic1\", \"Topic1\", \"Topic1\", \"Topic1\", \"Topic1\", \"Topic1\", \"Topic1\", \"Topic1\", \"Topic1\", \"Topic1\", \"Topic1\", \"Topic1\", \"Topic1\", \"Topic1\", \"Topic1\", \"Topic1\", \"Topic1\", \"Topic1\", \"Topic1\", \"Topic1\", \"Topic1\", \"Topic1\", \"Topic1\", \"Topic1\", \"Topic1\", \"Topic1\", \"Topic1\", \"Topic1\", \"Topic1\", \"Topic1\", \"Topic1\", \"Topic1\", \"Topic1\", \"Topic1\", \"Topic1\", \"Topic1\", \"Topic1\", \"Topic1\", \"Topic1\", \"Topic1\", \"Topic1\", \"Topic1\", \"Topic1\", \"Topic1\", \"Topic1\", \"Topic1\", \"Topic2\", \"Topic2\", \"Topic2\", \"Topic2\", \"Topic2\", \"Topic2\", \"Topic2\", \"Topic2\", \"Topic2\", \"Topic2\", \"Topic2\", \"Topic2\", \"Topic2\", \"Topic2\", \"Topic2\", \"Topic2\", \"Topic2\", \"Topic2\", \"Topic2\", \"Topic2\", \"Topic2\", \"Topic2\", \"Topic2\", \"Topic2\", \"Topic2\", \"Topic2\", \"Topic2\", \"Topic2\", \"Topic2\", \"Topic2\", \"Topic2\", \"Topic2\", \"Topic2\", \"Topic2\", \"Topic2\", \"Topic2\", \"Topic2\", \"Topic2\", \"Topic2\", \"Topic2\", \"Topic2\", \"Topic2\", \"Topic2\", \"Topic2\", \"Topic2\", \"Topic2\", \"Topic2\", \"Topic2\", \"Topic2\", \"Topic2\", \"Topic2\", \"Topic2\", \"Topic2\", \"Topic2\", \"Topic2\", \"Topic2\", \"Topic2\", \"Topic2\", \"Topic2\", \"Topic2\", \"Topic2\", \"Topic2\", \"Topic2\", \"Topic2\", \"Topic2\", \"Topic2\", \"Topic2\", \"Topic2\", \"Topic2\", \"Topic2\", \"Topic3\", \"Topic3\", \"Topic3\", \"Topic3\", \"Topic3\", \"Topic3\", \"Topic3\", \"Topic3\", \"Topic3\", \"Topic3\", \"Topic3\", \"Topic3\", \"Topic3\", \"Topic3\", \"Topic3\", \"Topic3\", \"Topic3\", \"Topic3\", \"Topic3\", \"Topic3\", \"Topic3\", \"Topic3\", \"Topic3\", \"Topic3\", \"Topic3\", \"Topic3\", \"Topic3\", \"Topic3\", \"Topic3\", \"Topic3\", \"Topic3\", \"Topic3\", \"Topic3\", \"Topic3\", \"Topic3\", \"Topic3\", \"Topic3\", \"Topic3\", \"Topic3\", \"Topic3\", \"Topic3\", \"Topic3\", \"Topic3\", \"Topic3\", \"Topic3\", \"Topic3\", \"Topic3\", \"Topic3\", \"Topic3\", \"Topic3\", \"Topic3\", \"Topic3\", \"Topic3\", \"Topic3\", \"Topic3\", \"Topic3\", \"Topic3\", \"Topic3\", \"Topic3\", \"Topic3\", \"Topic3\", \"Topic3\", \"Topic3\", \"Topic3\", \"Topic3\", \"Topic3\", \"Topic3\", \"Topic3\", \"Topic3\", \"Topic3\", \"Topic3\", \"Topic3\", \"Topic3\", \"Topic4\", \"Topic4\", \"Topic4\", \"Topic4\", \"Topic4\", \"Topic4\", \"Topic4\", \"Topic4\", \"Topic4\", \"Topic4\", \"Topic4\", \"Topic4\", \"Topic4\", \"Topic4\", \"Topic4\", \"Topic4\", \"Topic4\", \"Topic4\", \"Topic4\", \"Topic4\", \"Topic4\", \"Topic4\", \"Topic4\", \"Topic4\", \"Topic4\", \"Topic4\", \"Topic4\", \"Topic4\", \"Topic4\", \"Topic4\", \"Topic4\", \"Topic4\", \"Topic4\", \"Topic4\", \"Topic4\", \"Topic4\", \"Topic4\", \"Topic4\", \"Topic4\", \"Topic4\", \"Topic4\", \"Topic4\", \"Topic4\", \"Topic4\", \"Topic4\", \"Topic4\", \"Topic4\", \"Topic4\", \"Topic4\", \"Topic4\", \"Topic4\", \"Topic4\", \"Topic4\", \"Topic4\", \"Topic4\", \"Topic4\", \"Topic4\", \"Topic4\", \"Topic4\", \"Topic4\", \"Topic4\", \"Topic4\", \"Topic4\", \"Topic4\", \"Topic4\", \"Topic4\", \"Topic5\", \"Topic5\", \"Topic5\", \"Topic5\", \"Topic5\", \"Topic5\", \"Topic5\", \"Topic5\", \"Topic5\", \"Topic5\", \"Topic5\", \"Topic5\", \"Topic5\", \"Topic5\", \"Topic5\", \"Topic5\", \"Topic5\", \"Topic5\", \"Topic5\", \"Topic5\", \"Topic5\", \"Topic5\", \"Topic5\", \"Topic5\", \"Topic5\", \"Topic5\", \"Topic5\", \"Topic5\", \"Topic5\", \"Topic5\", \"Topic5\", \"Topic5\", \"Topic5\", \"Topic5\", \"Topic5\", \"Topic5\", \"Topic5\", \"Topic5\", \"Topic5\", \"Topic5\", \"Topic5\", \"Topic5\", \"Topic5\", \"Topic5\", \"Topic5\", \"Topic5\", \"Topic5\", \"Topic5\", \"Topic5\", \"Topic5\", \"Topic5\", \"Topic5\", \"Topic5\", \"Topic5\", \"Topic5\", \"Topic5\", \"Topic5\", \"Topic5\", \"Topic5\", \"Topic5\", \"Topic5\", \"Topic5\", \"Topic5\", \"Topic5\", \"Topic5\", \"Topic5\", \"Topic5\", \"Topic5\", \"Topic5\", \"Topic5\", \"Topic5\", \"Topic6\", \"Topic6\", \"Topic6\", \"Topic6\", \"Topic6\", \"Topic6\", \"Topic6\", \"Topic6\", \"Topic6\", \"Topic6\", \"Topic6\", \"Topic6\", \"Topic6\", \"Topic6\", \"Topic6\", \"Topic6\", \"Topic6\", \"Topic6\", \"Topic6\", \"Topic6\", \"Topic6\", \"Topic6\", \"Topic6\", \"Topic6\", \"Topic6\", \"Topic6\", \"Topic6\", \"Topic6\", \"Topic6\", \"Topic6\", \"Topic6\", \"Topic6\", \"Topic6\", \"Topic6\", \"Topic6\", \"Topic6\", \"Topic6\", \"Topic6\", \"Topic6\", \"Topic6\", \"Topic6\", \"Topic6\", \"Topic6\", \"Topic6\", \"Topic6\", \"Topic6\", \"Topic6\", \"Topic6\", \"Topic6\", \"Topic6\", \"Topic6\", \"Topic6\", \"Topic6\", \"Topic6\", \"Topic6\", \"Topic6\", \"Topic6\", \"Topic6\", \"Topic6\", \"Topic6\", \"Topic6\", \"Topic6\", \"Topic7\", \"Topic7\", \"Topic7\", \"Topic7\", \"Topic7\", \"Topic7\", \"Topic7\", \"Topic7\", \"Topic7\", \"Topic7\", \"Topic7\", \"Topic7\", \"Topic7\", \"Topic7\", \"Topic7\", \"Topic7\", \"Topic7\", \"Topic7\", \"Topic7\", \"Topic7\", \"Topic7\", \"Topic7\", \"Topic7\", \"Topic7\", \"Topic7\", \"Topic7\", \"Topic7\", \"Topic7\", \"Topic7\", \"Topic7\", \"Topic7\", \"Topic7\", \"Topic7\", \"Topic7\", \"Topic7\", \"Topic7\", \"Topic7\", \"Topic7\", \"Topic7\", \"Topic7\", \"Topic7\", \"Topic7\", \"Topic7\", \"Topic7\", \"Topic7\", \"Topic7\", \"Topic7\", \"Topic7\", \"Topic7\", \"Topic7\", \"Topic7\", \"Topic7\", \"Topic7\", \"Topic7\", \"Topic7\", \"Topic7\", \"Topic7\", \"Topic7\", \"Topic7\", \"Topic7\", \"Topic7\", \"Topic7\", \"Topic7\", \"Topic7\", \"Topic7\", \"Topic7\", \"Topic7\", \"Topic7\", \"Topic8\", \"Topic8\", \"Topic8\", \"Topic8\", \"Topic8\", \"Topic8\", \"Topic8\", \"Topic8\", \"Topic8\", \"Topic8\", \"Topic8\", \"Topic8\", \"Topic8\", \"Topic8\", \"Topic8\", \"Topic8\", \"Topic8\", \"Topic8\", \"Topic8\", \"Topic8\", \"Topic8\", \"Topic8\", \"Topic8\", \"Topic8\", \"Topic8\", \"Topic8\", \"Topic8\", \"Topic8\", \"Topic8\", \"Topic8\", \"Topic8\", \"Topic8\", \"Topic8\", \"Topic8\", \"Topic8\", \"Topic8\", \"Topic8\", \"Topic8\", \"Topic8\", \"Topic8\", \"Topic8\", \"Topic8\", \"Topic8\", \"Topic8\", \"Topic8\", \"Topic8\", \"Topic8\", \"Topic8\", \"Topic8\", \"Topic8\", \"Topic8\", \"Topic8\", \"Topic8\", \"Topic8\", \"Topic8\", \"Topic8\", \"Topic8\", \"Topic8\", \"Topic8\", \"Topic8\", \"Topic8\", \"Topic8\", \"Topic8\", \"Topic8\", \"Topic8\", \"Topic8\", \"Topic8\", \"Topic8\", \"Topic9\", \"Topic9\", \"Topic9\", \"Topic9\", \"Topic9\", \"Topic9\", \"Topic9\", \"Topic9\", \"Topic9\", \"Topic9\", \"Topic9\", \"Topic9\", \"Topic9\", \"Topic9\", \"Topic9\", \"Topic9\", \"Topic9\", \"Topic9\", \"Topic9\", \"Topic9\", \"Topic9\", \"Topic9\", \"Topic9\", \"Topic9\", \"Topic9\", \"Topic9\", \"Topic9\", \"Topic9\", \"Topic9\", \"Topic9\", \"Topic9\", \"Topic9\", \"Topic9\", \"Topic9\", \"Topic9\", \"Topic9\", \"Topic9\", \"Topic9\", \"Topic9\", \"Topic9\", \"Topic9\", \"Topic9\", \"Topic9\", \"Topic9\", \"Topic9\", \"Topic9\", \"Topic9\", \"Topic9\", \"Topic9\", \"Topic9\", \"Topic9\", \"Topic9\", \"Topic9\", \"Topic9\", \"Topic9\", \"Topic9\", \"Topic9\", \"Topic9\", \"Topic9\", \"Topic9\", \"Topic9\", \"Topic9\", \"Topic9\", \"Topic9\", \"Topic9\", \"Topic9\", \"Topic9\", \"Topic9\", \"Topic9\", \"Topic10\", \"Topic10\", \"Topic10\", \"Topic10\", \"Topic10\", \"Topic10\", \"Topic10\", \"Topic10\", \"Topic10\", \"Topic10\", \"Topic10\", \"Topic10\", \"Topic10\", \"Topic10\", \"Topic10\", \"Topic10\", \"Topic10\", \"Topic10\", \"Topic10\", \"Topic10\", \"Topic10\", \"Topic10\", \"Topic10\", \"Topic10\", \"Topic10\", \"Topic10\", \"Topic10\", \"Topic10\", \"Topic10\", \"Topic10\", \"Topic10\", \"Topic10\", \"Topic10\", \"Topic10\", \"Topic10\", \"Topic10\", \"Topic10\", \"Topic10\", \"Topic10\", \"Topic10\", \"Topic10\", \"Topic10\", \"Topic10\", \"Topic10\", \"Topic10\", \"Topic10\", \"Topic10\", \"Topic10\", \"Topic10\", \"Topic10\", \"Topic10\", \"Topic10\", \"Topic10\", \"Topic10\", \"Topic10\", \"Topic10\", \"Topic10\", \"Topic10\", \"Topic10\", \"Topic10\", \"Topic10\", \"Topic10\", \"Topic10\", \"Topic10\", \"Topic10\", \"Topic10\", \"Topic10\", \"Topic10\", \"Topic10\", \"Topic10\"], \"logprob\": [30.0, 29.0, 28.0, 27.0, 26.0, 25.0, 24.0, 23.0, 22.0, 21.0, 20.0, 19.0, 18.0, 17.0, 16.0, 15.0, 14.0, 13.0, 12.0, 11.0, 10.0, 9.0, 8.0, 7.0, 6.0, 5.0, 4.0, 3.0, 2.0, 1.0, -6.6619, -6.8001, -6.7568, -6.834, -6.8541, -6.9664, -7.116, -7.1825, -7.2357, -7.2986, -7.3026, -7.3622, -7.2669, -7.4335, -7.4848, -7.4376, -7.4936, -7.5054, -7.5316, -7.5619, -7.5707, -7.5747, -7.6117, -7.6259, -7.5847, -7.4706, -6.3305, -7.6983, -7.7085, -7.7049, -6.8951, -7.0404, -7.2455, -7.1542, -7.4076, -7.3835, -7.3355, -7.3645, -7.4192, -5.4225, -6.9146, -5.946, -5.5214, -5.7895, -5.2752, -6.2698, -5.5512, -5.2501, -6.8293, -6.3383, -6.3205, -6.5223, -6.5747, -5.4337, -6.2864, -5.5518, -5.3778, -6.1778, -5.2134, -5.8938, -5.7895, -6.2683, -6.1572, -6.0957, -5.4778, -5.5743, -5.5494, -5.8908, -5.5614, -6.1254, -5.9239, -5.8808, -5.858, -5.4627, -5.9805, -5.9416, -5.8597, -5.591, -5.8319, -5.6488, -5.7249, -5.7913, -5.6627, -5.7742, -5.2676, -5.7467, -5.8289, -5.8204, -4.8743, -5.4209, -5.5386, -5.8855, -6.0523, -6.1689, -6.2675, -6.3412, -6.3968, -6.4336, -6.4584, -6.6747, -6.7584, -6.8537, -6.8624, -6.911, -6.2319, -6.9475, -6.9625, -7.0056, -7.0055, -6.9026, -7.0181, -7.1114, -7.2143, -6.6736, -7.2348, -7.2496, -7.3069, -7.3148, -5.084, -5.3502, -5.2993, -5.0998, -5.9285, -5.6422, -6.1978, -5.5874, -5.0958, -5.133, -6.0832, -5.8951, -6.123, -5.0904, -4.4251, -5.5815, -4.9785, -4.6969, -5.0042, -4.7524, -4.8188, -4.1947, -4.4362, -5.7378, -5.4084, -4.6957, -5.2962, -4.5314, -5.4204, -4.8273, -4.9841, -5.2948, -5.1842, -5.2167, -5.0835, -5.0132, -5.1919, -5.2484, -5.3871, -5.3797, -5.2917, -5.6007, -5.6428, -5.7526, -5.8641, -5.8861, -5.9644, -6.1257, -6.2468, -6.4199, -6.4729, -6.503, -6.6133, -6.641, -6.7554, -6.8107, -6.8109, -6.8347, -6.8948, -6.8999, -6.9051, -6.9152, -6.9365, -6.9581, -6.9635, -6.9637, -6.9691, -6.9858, -6.9916, -6.9973, -5.9795, -5.848, -4.5465, -4.5582, -4.69, -5.8726, -4.4857, -3.6608, -5.5448, -5.7362, -5.8385, -5.401, -5.8376, -4.2734, -5.515, -5.75, -4.7516, -5.1821, -4.6286, -5.6832, -5.7588, -5.0439, -4.7307, -5.5289, -5.3611, -5.2921, -4.8516, -5.5569, -5.1331, -4.6736, -4.8603, -5.1587, -5.0388, -4.7151, -5.5147, -5.0046, -5.451, -5.1778, -5.4352, -5.3803, -5.4035, -5.3841, -5.4539, -5.5847, -5.9739, -6.4439, -6.4603, -6.421, -6.4448, -6.6412, -6.257, -6.7064, -5.7357, -6.9298, -6.9516, -6.8829, -7.0461, -7.2586, -6.825, -7.3625, -7.2373, -7.0496, -7.4241, -7.4694, -7.4693, -7.47, -7.5076, -7.5173, -7.5272, -7.4629, -7.3461, -4.9809, -5.5369, -6.9008, -5.3192, -5.4956, -4.9872, -4.6634, -4.5949, -2.9724, -4.9245, -4.3347, -4.2217, -3.7094, -5.9051, -4.6755, -5.4279, -5.8132, -5.9588, -5.5429, -5.8775, -5.0423, -5.1783, -5.3581, -5.4983, -5.2568, -5.7342, -4.9233, -5.4366, -5.4155, -5.2985, -5.3278, -5.1909, -5.2842, -5.312, -5.3796, -5.3363, -5.4719, -5.4938, -5.3118, -5.541, -5.5899, -5.8638, -5.9268, -6.2295, -5.9167, -6.3943, -6.4633, -6.6181, -6.6416, -6.6416, -6.5793, -6.7016, -6.9717, -7.0053, -7.0404, -6.76, -7.0923, -7.1086, -7.1477, -7.1424, -6.519, -6.3916, -7.4904, -7.4216, -7.636, -7.6643, -7.6829, -7.6833, -3.6777, -6.4899, -7.5103, -3.8331, -5.4325, -5.474, -5.5147, -5.1186, -5.3888, -6.6418, -5.7064, -5.0565, -6.0409, -6.1955, -5.6065, -4.7963, -5.9893, -4.7783, -4.8932, -5.3504, -5.1403, -4.9297, -5.3387, -4.4623, -5.3303, -5.4675, -5.6821, -4.456, -4.731, -4.6967, -5.3181, -4.9297, -5.2833, -5.3563, -5.3272, -5.0383, -5.3476, -5.4175, -5.4762, -5.4584, -5.4707, -3.8065, -3.8847, -4.6801, -5.1394, -5.1508, -5.3614, -5.7117, -5.771, -5.9268, -6.0006, -6.232, -6.3537, -6.3953, -6.3028, -6.5765, -6.5801, -6.6176, -6.6218, -6.7709, -6.7887, -6.869, -6.9297, -6.9726, -6.9833, -6.5247, -7.411, -7.4292, -7.4903, -7.5385, -7.5662, -4.9016, -5.1567, -4.1826, -5.2801, -6.1111, -4.528, -3.5413, -5.7371, -4.3913, -5.7104, -5.4874, -4.8043, -5.0553, -4.1797, -4.7338, -4.4794, -4.8886, -5.6045, -5.5213, -4.5783, -4.9322, -5.1659, -4.8062, -5.2188, -5.2269, -4.9116, -5.3421, -5.0063, -5.2881, -5.1701, -5.0605, -5.2595, -4.2569, -5.591, -5.98, -6.0075, -6.0867, -6.6133, -6.6512, -6.6512, -6.6806, -6.8155, -6.8879, -6.6622, -6.9481, -6.9682, -6.5702, -6.6648, -7.4057, -7.4909, -7.6012, -7.6844, -7.7362, -7.8809, -7.6919, -6.801, -6.9398, -8.1886, -5.4589, -6.2026, -6.0807, -6.0054, -5.7053, -5.6631, -5.0979, -6.0586, -5.3649, -5.2539, -4.629, -4.1588, -5.3847, -5.2798, -3.667, -6.1711, -6.0782, -3.633, -5.3435, -5.4856, -5.979, -5.2286, -5.5921, -4.0513, -4.7133, -5.3511, -4.2001, -4.2825, -4.7441, -4.6704, -5.5145, -4.9177, -5.1641, -5.3611, -5.2168, -5.1948, -5.1505, -5.2252, -5.2096, -5.326, -5.3551, -5.3906, -4.9239, -5.0848, -5.3835, -5.9523, -6.1206, -6.2434, -6.2801, -6.3265, -6.471, -6.4713, -6.5036, -6.5717, -6.582, -6.613, -6.6183, -6.6234, -6.6784, -6.6839, -6.7793, -7.0804, -7.1516, -7.187, -7.2059, -7.2155, -7.023, -7.491, -7.542, -7.1072, -7.1812, -6.5176, -6.1174, -4.9275, -4.9986, -4.425, -5.1733, -5.3582, -3.782, -4.3366, -4.7301, -5.4181, -5.2575, -5.2733, -5.6699, -4.9309, -4.6361, -5.5966, -5.603, -4.6566, -5.4983, -5.0834, -5.1224, -4.5812, -3.9005, -4.9338, -4.817, -5.0538, -5.3826, -4.9728, -4.9181, -4.6055, -4.7391, -4.6571, -4.6294, -4.6701, -4.9555, -5.1098, -5.1623, -5.218, -4.7441, -5.4652, -5.4597, -5.6692, -5.6868, -5.8118, -5.984, -5.5043, -6.1573, -6.267, -6.5929, -6.5944, -6.7098, -6.7663, -6.7663, -6.7883, -6.8069, -6.8069, -6.7992, -6.9537, -6.9779, -6.768, -6.7747, -6.7236, -7.5419, -6.6728, -5.6354, -7.6826, -7.7596, -5.9639, -6.5481, -6.0315, -4.3417, -5.5811, -5.4947, -4.5576, -3.314, -5.3137, -5.8367, -5.5498, -3.6531, -5.7289, -3.8469, -5.5932, -5.2044, -4.7002, -3.5785, -4.5557, -4.7294, -4.5506, -4.509, -5.2848, -5.3519, -4.584, -4.7911, -4.9111, -5.2904, -4.877, -4.7471, -4.7993, -5.1032, -5.1313, -4.9809, -5.1965, -5.2393, -5.2675, -5.2689, -5.2412, -5.2404, -4.6668, -4.6678, -5.2311, -5.7351, -5.7681, -5.8778, -5.8563, -5.8484, -6.1451, -6.2257, -6.2568, -6.3326, -6.3625, -6.3727, -6.4468, -6.6293, -6.8597, -6.8834, -6.8752, -6.9011, -6.9016, -6.8921, -6.9184, -6.9184, -6.9274, -6.9364, -6.964, -6.954, -6.9733, -6.9827, -5.7393, -6.0221, -6.3479, -6.8069, -6.7948, -5.2806, -5.282, -5.1519, -4.4873, -5.2366, -5.8406, -4.6926, -6.7191, -5.9666, -4.1982, -6.5019, -6.0193, -5.9249, -4.4055, -4.0183, -5.2159, -4.059, -4.6426, -5.871, -4.4234, -5.436, -5.0694, -5.4205, -4.9276, -4.775, -5.5594, -5.2216, -4.9566, -5.4036, -5.3693, -5.3054, -5.1943, -5.2656, -5.4002, -5.4167], \"loglift\": [30.0, 29.0, 28.0, 27.0, 26.0, 25.0, 24.0, 23.0, 22.0, 21.0, 20.0, 19.0, 18.0, 17.0, 16.0, 15.0, 14.0, 13.0, 12.0, 11.0, 10.0, 9.0, 8.0, 7.0, 6.0, 5.0, 4.0, 3.0, 2.0, 1.0, 0.8814, 0.8812, 0.8811, 0.8811, 0.8809, 0.8808, 0.8805, 0.8803, 0.8802, 0.88, 0.88, 0.8798, 0.8795, 0.8795, 0.8794, 0.8794, 0.8794, 0.8793, 0.8792, 0.8791, 0.8791, 0.8791, 0.8789, 0.8788, 0.8788, 0.8787, 0.8786, 0.8786, 0.8785, 0.8785, 0.8756, 0.8767, 0.8775, 0.8762, 0.8781, 0.8779, 0.8773, 0.8769, 0.8774, 0.8272, 0.8638, 0.8171, 0.7947, 0.8056, 0.7725, 0.8206, 0.7747, 0.7553, 0.8338, 0.7888, 0.769, 0.7884, 0.7783, 0.6016, 0.7235, 0.5946, 0.5418, 0.6914, 0.4857, 0.6199, 0.5954, 0.6991, 0.653, 0.6337, 0.4475, 0.4769, 0.4292, 0.5449, 0.4218, 0.6306, 0.5476, 0.5257, 0.5085, 0.3144, 0.5484, 0.5233, 0.4613, 0.2447, 0.3922, 0.1961, 0.2706, 0.338, 0.204, 0.3193, -0.4076, 0.1944, 0.36, 0.0604, 2.1059, 2.1052, 2.105, 2.1042, 2.1038, 2.1034, 2.103, 2.1027, 2.1024, 2.1023, 2.1022, 2.101, 2.1005, 2.0999, 2.0998, 2.0995, 2.0994, 2.0992, 2.0991, 2.0988, 2.0987, 2.0987, 2.0986, 2.0978, 2.0968, 2.0968, 2.0967, 2.0965, 2.0959, 2.0958, 2.072, 2.0684, 2.0192, 1.9918, 2.029, 1.9966, 2.0122, 1.9407, 1.8686, 1.871, 1.9845, 1.9554, 1.9766, 1.8074, 1.6779, 1.8787, 1.758, 1.6725, 1.7165, 1.6543, 1.666, 1.2915, 1.3705, 1.8396, 1.6605, 1.2697, 1.5394, 0.9501, 1.5553, 1.0176, 1.1161, 1.4087, 1.247, 1.2755, 0.8965, 0.4802, 0.7179, 0.9286, 0.8703, 0.1494, 2.3131, 2.3124, 2.3123, 2.312, 2.3116, 2.3115, 2.3113, 2.3106, 2.3101, 2.3091, 2.3088, 2.3087, 2.308, 2.3078, 2.3069, 2.3065, 2.3065, 2.3062, 2.3057, 2.3057, 2.3056, 2.3055, 2.3053, 2.3051, 2.3051, 2.3051, 2.305, 2.3048, 2.3048, 2.3047, 2.3041, 2.2969, 2.1955, 2.1785, 2.0917, 2.2068, 2.062, 1.9721, 2.159, 2.1723, 2.1816, 2.1178, 2.1496, 1.892, 2.0564, 2.1007, 1.7628, 1.8824, 1.6968, 2.0198, 2.0477, 1.7446, 1.5943, 1.9393, 1.8328, 1.7842, 1.3186, 1.9194, 1.4284, 0.9234, 1.0808, 1.3614, 0.9568, 0.145, 1.6949, 0.4037, 1.5295, 0.7068, 1.3728, 1.1216, 0.9489, 0.7337, 1.3458, 2.5065, 2.5047, 2.5025, 2.5024, 2.5018, 2.5014, 2.5005, 2.4994, 2.499, 2.4986, 2.498, 2.4977, 2.4971, 2.4965, 2.4929, 2.4923, 2.4917, 2.4908, 2.4904, 2.4903, 2.4896, 2.4896, 2.4896, 2.4889, 2.4887, 2.4885, 2.4877, 2.4805, 2.4802, 2.4752, 2.4732, 2.3992, 2.3998, 2.3245, 2.1817, 2.1159, 1.8876, 2.1176, 2.0119, 1.8691, 1.6988, 2.1401, 1.7479, 1.8605, 2.005, 2.0625, 1.8703, 1.9444, 1.4727, 1.4346, 1.5519, 1.6522, 1.4016, 1.7643, 0.8538, 1.3512, 1.2776, 0.8717, 0.8869, 0.5082, 0.5966, 0.5978, 0.7234, 0.1452, 0.6935, 0.3729, 2.7616, 2.7608, 2.7606, 2.7589, 2.7589, 2.7569, 2.7559, 2.7555, 2.7549, 2.7531, 2.7529, 2.7529, 2.7526, 2.7522, 2.7481, 2.7478, 2.7472, 2.747, 2.7463, 2.746, 2.7451, 2.7447, 2.7432, 2.7391, 2.7373, 2.7369, 2.7331, 2.7322, 2.7316, 2.7316, 2.6693, 2.7122, 2.7292, 2.6462, 2.6794, 2.677, 2.6566, 2.6338, 2.5883, 2.6824, 2.5492, 2.4154, 2.5771, 2.5947, 2.4434, 2.2131, 2.5104, 2.0644, 2.1009, 2.2445, 2.1333, 1.9378, 2.0859, 1.4223, 2.0005, 1.9778, 2.1495, 1.0374, 1.1894, 1.1481, 1.7453, 0.877, 1.5555, 1.6812, 1.5338, 0.4432, 1.2791, 0.9075, 1.4643, 0.4513, 0.1263, 2.9191, 2.9191, 2.918, 2.9169, 2.9168, 2.9161, 2.9145, 2.9142, 2.9132, 2.9127, 2.9107, 2.9096, 2.9092, 2.9085, 2.907, 2.907, 2.9065, 2.9064, 2.9043, 2.904, 2.9027, 2.9016, 2.9008, 2.9006, 2.8984, 2.8904, 2.8898, 2.888, 2.8864, 2.8855, 2.8405, 2.7784, 2.7259, 2.7394, 2.7963, 2.6439, 2.532, 2.7618, 2.592, 2.7402, 2.7045, 2.5885, 2.5842, 2.2468, 2.378, 2.2564, 2.3433, 2.5714, 2.5189, 2.0362, 1.7884, 1.9402, 1.4512, 1.9332, 1.8761, 1.211, 2.0525, 1.1639, 1.8619, 0.6366, -0.2005, 0.7205, 3.0418, 3.0379, 3.0354, 3.0352, 3.0346, 3.0286, 3.0281, 3.0281, 3.0277, 3.0254, 3.0241, 3.0237, 3.0229, 3.0225, 3.0216, 3.02, 3.0114, 3.0078, 3.0047, 3.0013, 2.962, 2.9597, 2.9527, 2.9521, 2.949, 2.9166, 2.9118, 2.9027, 2.8713, 2.871, 2.8382, 2.8308, 2.7794, 2.7968, 2.7012, 2.6746, 2.5468, 2.4696, 2.6619, 2.5928, 2.1778, 2.7938, 2.7648, 1.8962, 2.4476, 2.4718, 2.6879, 2.2863, 2.4772, 1.5457, 1.857, 2.1892, 1.2933, 1.3364, 1.5846, 1.295, 2.1889, 1.2001, 1.424, 1.745, 1.3752, 1.1518, 0.828, 0.8656, 0.6713, 0.8568, 1.0084, 0.732, 3.1161, 3.1156, 3.1144, 3.1105, 3.1092, 3.1079, 3.1075, 3.107, 3.1051, 3.1051, 3.1046, 3.1036, 3.1033, 3.1029, 3.1029, 3.1028, 3.1018, 3.1018, 3.1, 3.0934, 3.0912, 3.0905, 3.09, 3.0897, 3.0849, 3.0806, 3.0786, 3.0577, 3.0569, 3.0505, 3.0444, 3.0164, 2.9879, 2.9332, 2.9663, 2.976, 2.8433, 2.8733, 2.8977, 2.877, 2.8133, 2.8056, 2.8809, 2.6959, 2.6074, 2.824, 2.8041, 2.4938, 2.7345, 2.481, 2.4393, 2.112, 1.6287, 2.2582, 2.1386, 2.2898, 2.5231, 2.1256, 2.0203, 1.5171, 1.4437, 0.9618, 0.8568, 0.8113, 1.3007, 1.626, 1.5644, 1.6722, 3.2481, 3.2451, 3.2451, 3.2438, 3.2436, 3.2428, 3.2413, 3.2406, 3.2395, 3.2381, 3.2333, 3.2329, 3.2311, 3.23, 3.23, 3.2295, 3.2291, 3.2291, 3.2282, 3.2258, 3.2251, 3.2236, 3.2225, 3.2078, 3.2061, 3.2013, 3.1997, 3.1995, 3.1955, 3.1953, 3.1911, 3.1776, 3.0373, 3.0829, 3.0719, 2.7069, 2.3049, 2.8339, 2.9557, 2.8679, 2.235, 2.8867, 2.2443, 2.831, 2.6733, 2.4522, 1.9149, 2.3246, 2.334, 2.1761, 1.6135, 2.2429, 2.325, 1.2607, 1.5377, 1.5181, 2.0882, 1.0482, 0.6611, 0.6869, 1.4888, 1.5597, 0.5483, 1.2506, 1.4208, 1.1589, 1.1624, 0.7543, 0.5367, 3.2879, 3.2879, 3.2858, 3.2826, 3.2824, 3.2814, 3.2807, 3.28, 3.2784, 3.2772, 3.2772, 3.2761, 3.2756, 3.2756, 3.2744, 3.2711, 3.2662, 3.2656, 3.2654, 3.2652, 3.265, 3.2649, 3.2647, 3.2647, 3.2645, 3.2642, 3.2636, 3.2635, 3.2633, 3.263, 3.2471, 3.2309, 3.2117, 3.2471, 3.2437, 3.0167, 2.9545, 2.8892, 2.7359, 2.8657, 2.9841, 2.6404, 3.2143, 2.9551, 2.3162, 3.1259, 2.9217, 2.8647, 1.9232, 1.6005, 2.3374, 1.3492, 1.6136, 2.7804, 1.0629, 2.2317, 1.5839, 2.1092, 1.1077, 0.7542, 2.1938, 1.4984, 0.928, 1.7718, 1.4502, 1.1965, 0.6724, 0.3672, 0.5409, 0.5029]}, \"token.table\": {\"Topic\": [9, 1, 3, 4, 5, 7, 8, 9, 10, 1, 2, 3, 4, 5, 6, 7, 9, 10, 1, 2, 4, 5, 6, 7, 8, 10, 2, 4, 10, 1, 3, 4, 5, 8, 10, 8, 1, 2, 4, 5, 6, 7, 8, 9, 10, 1, 2, 3, 4, 5, 7, 8, 1, 3, 4, 6, 9, 4, 1, 3, 10, 1, 4, 1, 4, 8, 10, 10, 3, 3, 8, 10, 4, 4, 1, 2, 5, 8, 9, 10, 3, 10, 1, 2, 3, 4, 5, 8, 10, 1, 4, 10, 2, 5, 6, 7, 10, 1, 2, 1, 1, 9, 9, 9, 10, 1, 2, 4, 5, 6, 7, 8, 9, 10, 9, 10, 1, 2, 3, 4, 5, 7, 8, 9, 10, 9, 1, 2, 4, 1, 2, 4, 5, 6, 7, 8, 9, 10, 3, 1, 2, 5, 6, 7, 8, 9, 10, 1, 4, 8, 1, 2, 5, 10, 3, 4, 8, 10, 8, 10, 5, 5, 3, 9, 8, 7, 3, 1, 2, 3, 5, 6, 7, 8, 9, 10, 1, 3, 5, 6, 8, 1, 6, 1, 6, 1, 2, 4, 5, 6, 7, 9, 6, 6, 9, 1, 2, 3, 4, 5, 7, 9, 10, 2, 1, 3, 4, 3, 3, 3, 4, 3, 1, 3, 4, 5, 6, 8, 10, 1, 4, 10, 1, 4, 10, 1, 8, 10, 7, 8, 10, 5, 1, 2, 3, 4, 5, 7, 8, 10, 2, 3, 10, 5, 7, 1, 3, 4, 9, 1, 2, 3, 4, 5, 6, 7, 8, 9, 10, 1, 5, 6, 9, 2, 6, 1, 3, 1, 10, 3, 10, 3, 2, 5, 2, 10, 1, 4, 1, 5, 5, 1, 2, 3, 4, 5, 9, 2, 5, 6, 7, 8, 10, 7, 8, 1, 3, 4, 6, 8, 10, 3, 10, 3, 1, 7, 1, 2, 3, 7, 8, 10, 1, 5, 6, 8, 6, 1, 9, 3, 3, 4, 4, 5, 1, 6, 1, 2, 4, 5, 6, 7, 8, 1, 2, 3, 4, 5, 10, 10, 1, 3, 4, 10, 5, 7, 6, 2, 1, 2, 3, 4, 5, 6, 8, 9, 5, 9, 2, 6, 9, 3, 5, 7, 3, 7, 4, 3, 5, 7, 1, 2, 9, 1, 2, 3, 4, 5, 6, 7, 8, 9, 10, 3, 5, 10, 5, 7, 7, 5, 7, 1, 2, 3, 4, 5, 8, 9, 10, 6, 1, 6, 5, 3, 4, 5, 1, 1, 3, 4, 3, 4, 8, 10, 4, 8, 4, 10, 10, 1, 2, 4, 6, 9, 10, 2, 1, 3, 5, 7, 8, 9, 4, 7, 1, 2, 4, 5, 6, 7, 8, 9, 10, 2, 7, 5, 5, 1, 2, 3, 4, 5, 6, 7, 9, 10, 10, 5, 6, 4, 6, 7, 5, 6, 8, 5, 6, 2, 6, 2, 2, 6, 7, 1, 2, 4, 6, 9, 3, 2, 8, 5, 4, 2, 1, 4, 8, 1, 6, 1, 7, 4, 7, 10, 10, 1, 3, 4, 5, 5, 1, 2, 3, 4, 5, 7, 8, 1, 2, 4, 5, 7, 1, 2, 4, 5, 7, 8, 10, 1, 2, 4, 6, 7, 8, 1, 3, 4, 10, 1, 6, 5, 6, 7, 3, 3, 4, 5, 8, 1, 3, 4, 3, 4, 5, 3, 5, 1, 2, 3, 4, 6, 7, 8, 9, 10, 1, 4, 5, 7, 10, 1, 2, 3, 4, 5, 6, 7, 8, 9, 6, 1, 4, 1, 6, 1, 2, 6, 1, 1, 1, 3, 4, 6, 8, 9, 10, 4, 4, 1, 1, 10, 2, 3, 4, 6, 1, 1, 2, 5, 6, 7, 8, 9, 10, 1, 3, 5, 10, 3, 10, 7, 1, 2, 4, 5, 6, 8, 4, 1, 3, 4, 6, 4, 1, 6, 6, 6, 6, 1, 4, 9, 10, 1, 2, 3, 6, 1, 4, 9, 10, 1, 2, 4, 7, 8, 4, 10, 1, 3, 9, 2, 5, 8, 3, 5, 1, 3, 4, 5, 1, 2, 3, 4, 5, 6, 10, 4, 1, 2, 3, 4, 5, 6, 8, 9, 6, 1, 2, 3, 4, 6, 7, 8, 1, 2, 4, 6, 7, 10, 1, 2, 3, 4, 5, 6, 8, 9, 10, 2, 1, 6, 9, 1, 2, 3, 5, 10, 10, 9, 2, 5, 1, 1, 2, 3, 6, 8, 10, 2, 1, 2, 3, 4, 5, 6, 7, 8, 9, 8, 8, 9, 10, 1, 4, 1, 2, 3, 4, 5, 6, 8, 10, 2, 1, 10, 1, 2, 3, 4, 5, 6, 7, 8, 9, 10, 2, 6, 1, 4, 1, 4, 7, 9, 10, 1, 4, 5, 2, 5, 7, 9, 8, 4, 8, 1, 8, 1, 4, 5, 8, 9, 7, 9, 4, 4, 9, 4, 8, 6, 4, 7, 7, 5, 6, 8, 4, 2, 6, 7, 6, 2, 6, 3, 8, 9, 1, 1, 2, 4, 5, 6, 7, 9, 7, 2, 1, 2, 5, 6, 7, 8, 9, 10, 3, 7, 2, 8, 2, 1, 4, 8, 9, 10, 9, 3, 3, 9, 1, 9, 3, 10, 1, 2, 8, 7, 8, 1, 2, 3, 4, 5, 6, 7, 2, 10, 7, 9, 5, 1, 2, 3, 4, 6, 7, 8, 9, 10, 1, 3, 4, 5, 9, 10, 1, 10, 1, 3, 4, 9, 3, 10, 3, 4, 5, 1, 3, 5, 9, 1, 2, 3, 5, 7, 10, 3, 10, 1, 4, 5, 6, 7, 8, 1, 2, 3, 4, 7, 9, 10, 9, 10, 4, 7, 8, 4, 8, 3, 2, 5, 7, 1, 3, 4, 8, 10, 1, 6, 7, 7, 1, 4, 6, 7, 1, 2, 3, 4, 5, 6, 7, 8, 10, 1, 2, 9, 2, 1, 4, 8, 1, 4, 1, 3, 5, 8, 9, 10, 9, 1, 2, 3, 4, 5, 6, 7, 8, 9, 10, 2, 3, 5, 9, 10, 1, 4, 1, 4, 4, 5, 6, 8, 1, 2, 4, 5, 7, 8, 1, 4, 8, 8, 2, 3, 5, 6, 1, 2, 4, 5, 6, 7, 8, 9, 10, 1, 2, 3, 4, 5, 9, 10, 2, 5, 2, 5, 6, 7, 9, 10, 5, 1, 3, 6, 8, 10, 2, 5, 1, 2, 3, 4, 5, 8, 10, 1, 2, 6, 8, 6, 1, 8, 1, 2, 3, 4, 5, 6, 8, 5, 1, 3, 5, 1, 2, 3, 4, 5, 6, 7, 8, 9, 10, 3, 5, 1, 2, 4, 5, 6, 8, 9, 4, 8, 9, 9, 2, 6, 7, 8, 1, 2, 3, 5, 6, 7, 8, 9, 2, 3, 5, 1, 2, 3, 4, 5, 6, 7, 9, 1, 2, 5, 6, 8, 1, 5, 8, 1, 5, 6, 7, 8, 9, 1, 4, 5, 7, 5, 6, 1, 2, 3, 5, 6, 8, 9, 10, 1, 3, 7, 1, 2, 3, 4, 5, 6, 7, 8, 9, 2, 6, 5, 6, 1, 4, 5, 7, 9, 1, 3, 7, 10, 1, 2, 3, 4, 5, 7, 8, 10, 1, 2, 3, 4, 5, 7, 6, 8, 1, 2, 5, 6, 7, 8, 10, 3, 10, 1, 2, 3, 4, 6, 8, 9, 2, 6, 1, 2, 3, 5, 10, 1, 2, 3, 4, 5, 6, 7, 9, 4, 6, 9, 1, 2, 3, 4, 5, 8, 9, 7, 10, 5, 8, 2, 9, 7, 1, 3, 4, 7, 9, 2, 4, 5, 7, 5, 1, 5, 8, 10, 1, 3, 4, 6, 8, 9, 10, 2, 5, 1, 2, 4, 5, 6, 8, 9, 10, 10, 1, 2, 3, 3, 7, 1, 2, 3, 4, 5, 6, 10, 4, 1, 2, 5, 2, 4, 8, 10, 3, 7, 10, 1, 2, 3, 4, 5, 6, 7, 10, 7, 1, 2, 3, 4, 5, 6, 8, 10, 8, 10, 9, 1, 2, 3, 4, 5, 8, 1, 4, 6, 3, 1, 2, 3, 4, 6, 8, 1, 2, 4, 8, 5, 6, 1, 2, 3, 5, 10, 6, 3, 3, 8, 1, 1, 3, 4, 5, 9, 3, 4, 9, 10, 3, 7, 3, 9, 1, 4, 5, 6, 10, 8, 6, 1, 7, 9, 4, 1, 2, 3, 5, 6, 7, 8, 10, 1, 1, 2, 3, 5, 7, 9, 10, 10, 8, 7, 9, 10, 10, 2, 6, 9, 1, 7, 1, 1, 2, 3, 4, 5, 6, 7, 8, 9, 10, 1, 2, 3, 4, 6, 8, 9, 10, 1, 7, 3, 8, 2, 6, 1, 2, 3, 6, 10, 5, 2, 3, 5, 6, 8, 1, 2, 3, 4, 5, 6, 10, 1, 2, 3, 4, 5, 6, 7, 8, 10, 2, 8, 2, 3, 4, 5, 9, 1, 2, 5, 6, 7, 8, 10, 1, 2, 3, 4, 5, 6, 7, 8, 9, 10, 1, 2, 4, 6, 7, 8, 9, 1, 7, 9, 1, 2, 7, 2, 5, 8, 1, 2, 6, 9, 7, 4, 8, 1, 4, 6, 8, 10, 8, 1, 4, 8, 10, 1, 4, 5, 7, 1, 4, 5, 1, 3, 4, 5, 6, 7, 10, 2, 1, 6, 8, 1, 2, 5, 6, 7, 8, 9, 1, 4, 8, 8, 1, 7, 1, 2, 3, 9, 1, 4, 1, 2, 3, 4, 5, 6, 7, 9, 10, 5, 6, 5, 1, 2, 3, 4, 6, 8, 1, 2, 4, 5, 6, 7, 9, 10, 3, 1, 4, 2, 5, 10, 1, 2, 3, 5, 6, 7, 8, 8, 10, 10, 1, 3, 5, 8, 10, 8, 7, 8, 1, 2, 3, 4, 5, 6, 7, 8, 1, 6, 1, 2, 3, 4, 5, 6, 8, 9, 10, 1, 2, 3, 6, 9, 2, 6, 9, 1, 2, 3, 4, 5, 9, 10, 2, 4, 1, 3, 4, 5, 7, 8, 1, 3, 4, 7, 8, 9, 10, 2, 5, 6, 5, 6, 8, 10, 8, 6, 1, 4, 5, 6, 8, 9, 10, 1, 3, 4, 7, 8, 9, 2, 3, 5, 6, 7, 8, 9, 2, 3, 5, 6, 7, 8, 9, 9, 2, 4, 1, 4, 5, 6, 9, 10, 6, 6, 10, 5, 7, 1, 2, 3, 6, 7, 9, 10, 1, 2, 6, 7, 1, 6, 7, 9, 10, 9, 2, 4, 5, 6, 7, 8, 9, 1, 2, 5, 10, 2, 3, 5, 5, 5, 4, 10, 2, 1, 2, 3, 4, 6, 7, 1, 1, 2, 3, 4, 5, 6, 7, 8, 9, 10, 1, 4, 9, 1, 2, 3, 4, 5, 6, 8, 9, 10, 6, 8, 6, 2, 1, 4, 5, 8, 4, 1, 2, 4, 5, 6, 9, 10, 2, 3, 1, 2, 3, 4, 5, 6, 7, 8, 9, 10, 2, 1, 2, 4, 5, 6, 7, 8, 10, 3, 2, 3, 5, 6, 8, 1, 2, 4, 5, 7, 8, 10, 1, 10, 1, 3, 5, 6, 8, 10, 7, 7, 8, 9, 10, 8, 7, 8, 2, 6, 7, 2, 1, 2, 3, 4, 5, 6, 7, 8, 10, 2, 10, 1, 2, 3, 4, 5, 6, 7, 8, 9, 10, 2, 8, 1, 2, 6, 9, 1, 2, 3, 4, 6, 9, 10, 1, 2, 5, 6, 7, 10, 1, 4, 8, 1, 2, 3, 4, 7, 8, 9, 10, 7, 7, 6, 8, 3, 8, 3, 5, 6, 8, 9, 1, 2, 4, 5, 6, 7, 8, 9, 4, 8, 5, 1, 2, 3, 4, 5, 7, 10, 1, 2, 3, 7, 10, 1, 3, 4, 5, 7, 8, 9, 10, 1, 2, 6, 2, 1, 4], \"Freq\": [0.9853617467952012, 0.014103212459694826, 0.3042264402019884, 0.004029489274198522, 0.046339126653283005, 0.10073723185496306, 0.1611795709679409, 0.31228541875038546, 0.056412849838779304, 0.6354098311970992, 0.04968020572299446, 0.07054589212665213, 0.0004968020572299446, 0.044712185150695014, 0.044712185150695014, 0.10929645259058782, 0.019872082289197783, 0.02583370697595712, 0.03330152586606235, 0.09038985592216925, 0.05613685788850511, 0.08372955074895677, 0.020932387687239193, 0.5632715232202546, 0.10085604976578884, 0.0513794970504962, 0.035680320606527004, 0.035680320606527004, 0.9276883357697022, 0.42571658438449406, 0.3794184943055438, 0.05307342033440642, 0.08807929332092981, 0.023713655894096488, 0.028230542731067246, 0.990725219395847, 0.3562651671210778, 0.0766991251509072, 0.01906132104342072, 0.016792116157299208, 0.08532210371816895, 0.032222709382925506, 0.0004538409772243029, 0.36216509982499373, 0.050830189449121925, 0.019094420110903145, 0.6477414822237143, 0.06536166884116845, 0.13219213922932946, 0.03084483248684354, 0.07050247425564238, 0.03451683635432491, 0.0035949399578753525, 0.14559506829395177, 0.24445591713552398, 0.02516457970512747, 0.5805828031968695, 0.9819841839528752, 0.007653565937563329, 0.8763332998510012, 0.1186302720322316, 0.9936549016135588, 0.0038663614848776606, 0.5816626145691896, 0.2580048032940564, 0.0011518071575627516, 0.15894938774365974, 0.9830401955111262, 0.9948455899741654, 0.9952671786877814, 0.736682658157265, 0.261663239236187, 0.979584877917097, 0.9840066588686389, 0.3697386589672438, 0.0661637600257173, 0.025946572559104826, 0.333413457384497, 0.09600231846868786, 0.10897560474824027, 0.3448266831964383, 0.6522625212269977, 0.01076053410030167, 0.1398869433039217, 0.018830934675527922, 0.3685482929353322, 0.056492804026583764, 0.056492804026583764, 0.34702722473472886, 0.07358057321265085, 0.8942869667383719, 0.028300220466404173, 0.7411836420057225, 0.048581784938190216, 0.07972395477036344, 0.06851277363078108, 0.059792966077772576, 0.11236575417371975, 0.8828737827935123, 0.9977625032886207, 0.33819557554740043, 0.6591947658974754, 0.9905334312448072, 0.9920128129178202, 0.978276516136006, 0.11529903968472706, 0.19665061675670953, 0.03792329156739033, 0.17768897097301437, 0.012539152856959706, 0.1737131420183686, 0.015903315818583043, 0.2630163769996426, 0.007339991916269096, 0.9973001519903606, 0.9945518850095616, 0.03501773858624663, 0.05165983217178958, 0.013521701038253647, 0.016988803868575094, 0.012828280472189358, 0.18132947802581173, 0.11545452424970422, 0.3883155169960022, 0.18444987057310103, 0.9782368960863014, 0.9013609229277133, 0.007854997149696848, 0.09033246722151375, 0.03129081356479371, 0.1377664986116612, 0.03694054379177036, 0.1986097472098712, 0.004780540961287928, 0.4206876045933377, 0.02259892090790657, 0.13646271471312812, 0.01043027118826457, 0.9858902760701469, 0.7686435952143748, 0.049206764373547165, 0.016967849783981782, 0.029693737121968117, 0.03478409205716265, 0.03987444699235719, 0.039026054503158096, 0.022058204719176317, 0.08458098594659422, 0.12361836407579153, 0.7872537922721461, 0.032787871131561404, 0.7956523394592234, 0.10492118762099649, 0.06557574226312281, 0.9891820588232809, 0.1433473398694686, 0.5494981361662963, 0.30034680734555325, 0.8644034967598357, 0.1309702267817933, 0.99575968748221, 0.9946089585000839, 0.9923147680349967, 0.9768184050672969, 0.9850442632898446, 0.9690791333311786, 0.9980512789467166, 0.01796864741178821, 0.42343508248648737, 0.12578053188251745, 0.018749892951431174, 0.033593558204647524, 0.11093686662930112, 0.08046829058322545, 0.12421804080323152, 0.06484337979036614, 0.16552786007857398, 0.05427142953395868, 0.028492500505328307, 0.7204532270633015, 0.03120607198202624, 0.9985284013511914, 0.9831900847312147, 0.99764944311882, 0.9952255946040005, 0.09952268798412295, 0.1453964269768046, 0.04509621799280571, 0.01632794099739517, 0.5100537759186301, 0.059091595990572995, 0.12362583898027772, 0.9782285141940145, 0.9578232607243711, 0.987333876203193, 0.35289824488241117, 0.03825919483353001, 0.20557179313538515, 0.10335692932640198, 0.011991687932897467, 0.15817607416250468, 0.0719501275973848, 0.05767430862964972, 0.994064750856587, 0.009593856133118299, 0.8879646843208381, 0.10233446541992851, 0.9868736256299854, 0.9949165894869108, 0.996536020371267, 0.9846730428296614, 0.9961013132004993, 0.08726450718043363, 0.05216899885786793, 0.015176436031379763, 0.0189705450392247, 0.018022017787263468, 0.7588218015689882, 0.048374889850022994, 0.019691277784432814, 0.9714363706986855, 0.008751679015303472, 0.09795273816579352, 0.8950853659977683, 0.003377680626406673, 0.5398240047379623, 0.07437575176389703, 0.3862740656124975, 0.5642293181184391, 0.251567211899941, 0.179690865642815, 0.9506943165513334, 0.27583754020420476, 0.08467960960676194, 0.30350513542225566, 0.003353647905218295, 0.09977102518024426, 0.04611265869675155, 0.06288089822284303, 0.12324656051677232, 0.00996079295928685, 0.9910988994490415, 0.9864683353358014, 0.8039154704676553, 0.18887170691709976, 0.13176423550839114, 0.14461928287506345, 0.27316975654178655, 0.44992665783353075, 0.0722062442638472, 0.0006017187021987267, 0.3694552831500182, 0.1943551408101887, 0.042722027856109596, 0.17269326753103456, 0.06859593205065484, 0.017449842363763072, 0.04693405877150068, 0.015644686257166893, 0.245967263328868, 0.08198908777628934, 0.6715296713105603, 0.9662988204813222, 0.9114904652142528, 0.087910247914065, 0.9796306814050687, 0.015025010450997987, 0.9931601577988868, 0.9942051503139783, 0.05185155848158404, 0.9333280526685128, 0.997716543676773, 0.8469631546188794, 0.15207901947576563, 0.9967697345978127, 0.9912282676602417, 0.9948476471819102, 0.0034011885373740522, 0.9950180321230313, 0.9651463541213253, 0.989061807072547, 0.0415981916467446, 0.3925829336661522, 0.0012999434889607688, 0.20539107125580147, 0.2729881326817615, 0.08709621376037151, 0.5665910081489787, 0.024583494155224282, 0.19432666808415383, 0.0913101211479759, 0.033948634785785914, 0.08896883599033549, 0.811247585885156, 0.18437445133753547, 0.06256918671070691, 0.12930965253546095, 0.5276668079269616, 0.15225168766272015, 0.06674046582475404, 0.05839790759665978, 0.8562193625390762, 0.1422383957312472, 0.9979696506325966, 0.15316349333121834, 0.8378944046943121, 0.003044732604214325, 0.4095165352668267, 0.003044732604214325, 0.11569983896014434, 0.36993501141204044, 0.09895380963696555, 0.8528022540467348, 0.08500153185759939, 0.02926282244278012, 0.03204975791352108, 0.99200632360842, 0.04322837761640384, 0.9510243075608846, 0.9967671826039439, 0.7665011492345795, 0.23180478303465105, 0.9665118204737337, 0.990381594442283, 0.9978590216373746, 0.9948705377724515, 0.19014587443092312, 0.19014587443092312, 0.0019206653982921527, 0.46480102638670096, 0.03457197716925875, 0.0729852851351018, 0.04417530416071951, 0.2246082359436357, 0.018410511142920957, 0.02209261337150515, 0.5228585164589552, 0.19699246922925423, 0.01288735780004467, 0.9644873358847614, 0.1664826481881209, 0.655151140711526, 0.1628894975078017, 0.015570319614716341, 0.8280391854846018, 0.16699949959353314, 0.994971150348819, 0.9941540327221933, 0.5928950918290067, 0.04537149616892088, 0.02391200473767452, 0.1226256653214078, 0.07418852751945172, 0.11342874042230221, 0.004291898286249273, 0.02268574808446044, 0.9940240490352688, 0.9890531879726252, 0.1798226880316126, 0.7172473124897276, 0.10217198183614354, 0.008713756006755469, 0.2265576561756422, 0.7580967725877258, 0.08368931856918396, 0.9205825042610235, 0.975936534142171, 0.23392229496285488, 0.07331892827193959, 0.6912927522782876, 0.3882709199998891, 0.2144993194404982, 0.39641646377611056, 0.5072915526151466, 0.02931807572031495, 0.1172723028812598, 0.11816072941823903, 0.02976228898880457, 0.027097009377866847, 0.04175604723802432, 0.035537061479169636, 0.021322236887501782, 0.07285097603229775, 0.5756197718452863, 0.04669481924998635, 0.3778035375680714, 0.18083115958524018, 0.8137402181335808, 0.9897968144145717, 0.29223724725576805, 0.7013693934138434, 0.04110021869559007, 0.3276274576019894, 0.004697167850924579, 0.12095207216130792, 0.2982701585337108, 0.0023485839254622897, 0.12917211590042593, 0.07515468561479327, 0.9709308286782229, 0.16443737501335018, 0.8336592500676823, 0.9741463726139822, 0.5882304066080181, 0.1831704810450284, 0.22635701722637655, 0.9955970217662677, 0.9929507333104726, 0.002981834033965383, 0.002981834033965383, 0.3501291242755239, 0.07244050847079804, 0.0017247740112094772, 0.5743497457327559, 0.9908230878465931, 0.007990508772956395, 0.9950154725780649, 0.9727422363400403, 0.9856381425221069, 0.2966755618479214, 0.2569149195384061, 0.09481383935345941, 0.35172875889186556, 0.9941593056032005, 0.9565576189336509, 0.9928207495648169, 0.1910528803959856, 0.08712851138937806, 0.06928291267107171, 0.09972540460230019, 0.21099796131644566, 0.34116585784997433, 0.06495035842219483, 0.9093050179107278, 0.11379346711254358, 0.14137015691419064, 0.0183844598677647, 0.03074642426160648, 0.006656442365914806, 0.317607392887935, 0.22536812010311555, 0.066881397105144, 0.07924336149898578, 0.05570113806009921, 0.9469193470216866, 0.9831862871560711, 0.9831862809629656, 0.5794622023103886, 0.049751805248871746, 0.0019510511862302646, 0.04780075406264148, 0.04097207491083556, 0.01755946067607238, 0.039021023724605294, 0.04097207491083556, 0.18144776031941462, 0.9887984196791874, 0.1300373841283297, 0.8680874021539848, 0.13415653951194093, 0.706557774762889, 0.1565159627639311, 0.11994153236172889, 0.1313645354437983, 0.7424952003345121, 0.843024242562607, 0.14876898398163654, 0.9660558601386254, 0.03386840244225565, 0.9927212755019168, 0.3671011094794156, 0.561960466169911, 0.06959262738946267, 0.07164703902742374, 0.2497411074670199, 0.11668232070180438, 0.4196469428749105, 0.14124701979692109, 0.986016506351002, 0.9237800428720149, 0.0718894974997677, 0.9969047869970314, 0.9841956162790318, 0.9985583651710473, 0.0354576257388472, 0.06382372632992496, 0.9006236937667189, 0.9945228909430077, 0.9903005668718016, 0.15546622789565198, 0.8453476141826076, 0.052800386694096174, 0.8976065737996349, 0.9809133623714692, 0.9931918576840467, 0.254579137562631, 0.6180243536882292, 0.1272895687813155, 0.9824451690431397, 0.9842255466156389, 0.045942366950014246, 0.03876387211407452, 0.06317075455626958, 0.6080185126040948, 0.04809591540079616, 0.15074839155473424, 0.045224517466420276, 0.047088373066458585, 0.07455659068855942, 0.6906294716413925, 0.17265736791034814, 0.015696124355486195, 0.010547969943161368, 0.11391807538614278, 0.12235645134067187, 0.5063025572717457, 0.16665792510194963, 0.0021095939886322736, 0.0801645715680264, 0.5296944743801326, 0.0017955744894241784, 0.0026933617341362674, 0.017955744894241784, 0.30524766320211033, 0.140952597419798, 0.5886598419445456, 0.1907389431999086, 0.0016443012344819709, 0.21869206418610213, 0.9394226273199657, 0.05890270492842229, 0.9186298798017459, 0.0796984827225259, 0.9894862422591417, 0.9870278668436816, 0.6490078471840074, 0.22810933404426564, 0.08977206049484003, 0.03237680870305706, 0.01983276941054416, 0.6875360062321976, 0.29308425906693036, 0.7996480729657596, 0.08872655455930759, 0.10979911126714313, 0.991616042019445, 0.9619622400413339, 0.6720786629658937, 0.052594193859823994, 0.03268353475574777, 0.13524221278240456, 0.030053825062756567, 0.033059207569032224, 0.00901614751882697, 0.016153930971231655, 0.018783640664222855, 0.8319773926987167, 0.04941117741549361, 0.025373307321469692, 0.09348060592120414, 0.9651313147801338, 0.05441874932022767, 0.003627916621348512, 0.07618624904831875, 0.001813958310674256, 0.531489785027557, 0.03990708283483363, 0.09432583215506131, 0.10339562370843258, 0.09251187384438705, 0.9531742040485685, 0.3939890106735247, 0.6034911036507165, 0.9953791233231398, 0.9989466332091587, 0.9986786516358168, 0.9902374201303642, 0.9855388747890937, 0.9983709750686451, 0.9947429420060667, 0.2751652733027636, 0.11412459417807835, 0.5368563768803771, 0.04415631524386531, 0.007954630319666912, 0.016883297005007323, 0.004870181828367497, 0.9822082749720181, 0.985128030517508, 0.9974082527513649, 0.9985371638274256, 0.9821449928476947, 0.05301816911060904, 0.8726790635606249, 0.029690174701941064, 0.04347489867069941, 0.9936192064467436, 0.08548510021219483, 0.21227843676853747, 0.01204823560037645, 0.1812972595104266, 0.09925451232691077, 0.2013776521777207, 0.19449294612036272, 0.013769412114715945, 0.005573281430630375, 0.7440330709891552, 0.06130609573693413, 0.18949156864143277, 0.028800700547253952, 0.9504231180593805, 0.9764878887978566, 0.018514895916513896, 0.14040462736689704, 0.1558337072973253, 0.10183192754082644, 0.581676313377145, 0.0015429079930428249, 0.9867150818150409, 0.2975441739107905, 0.18170636574704765, 0.474707880514162, 0.045426591436761914, 0.9756980379038543, 0.15890527774908633, 0.8357240533470466, 0.994867422925869, 0.9994014770461028, 0.9952055207079861, 0.026380680847050426, 0.8309914466820885, 0.13944074162012368, 0.0018843343462178876, 0.9949280498907772, 0.8905946875873587, 0.08013840142976232, 0.02721681557991928, 0.9532443961463558, 0.04552009756878665, 0.2803214443768886, 0.712681638246327, 0.289230925101066, 0.49743616551069864, 0.0010256415783725745, 0.04102566313490298, 0.17128214358821994, 0.33869101769974347, 0.6525997658117009, 0.004347192536079219, 0.33473382527809986, 0.6607732654840413, 0.0056348907774586435, 0.26483986654055625, 0.7325358010696236, 0.9971619702526032, 0.9475017177810762, 0.012398470779890865, 0.24073697430954766, 0.674683451605728, 0.07232441288269671, 0.0008898640826796677, 0.2989943317803683, 0.4120070702806861, 0.09699518501208378, 0.0711891266143734, 0.09788504909476343, 0.02135673798431202, 0.9909020943342142, 0.503304121763881, 0.3364053456349256, 0.07519137570393039, 0.030424256065174148, 0.017819921409602, 0.007388747901542293, 0.010431173508059709, 0.019123818098109466, 0.9748336709251864, 0.5234696428827778, 0.044765679805147895, 0.25487556405189044, 0.06787054680135325, 0.029603110838888124, 0.062094330052301916, 0.017328650247154024, 0.6980656424445253, 0.07917874185134662, 0.08645025896014376, 0.06059597590664282, 0.05736419052495521, 0.0185827659447038, 0.058602799110885236, 0.44240558707025796, 0.07226666418855278, 0.06771204249599692, 0.019433052554904948, 0.0507081215104551, 0.1041490160364437, 0.07712492732727902, 0.10779271339048839, 0.9915917219595176, 0.01256657494259969, 0.05026629977039876, 0.929926545752377, 0.40024340971633804, 0.04386848671467208, 0.20034783107834772, 0.26140191052660267, 0.09406850759434837, 0.9841744147280147, 0.9683794109000229, 0.007348119267104051, 0.9919961010590469, 0.9948674161586694, 0.1984104428684883, 0.1645354892080147, 0.0072589186415300605, 0.04597315139635705, 0.5057046653599275, 0.0750088259624773, 0.994314493388867, 0.5278523674334547, 0.09929173163340226, 0.06497767731891765, 0.04234500319659802, 0.016061897764226837, 0.016791984026237147, 0.1306854408998456, 0.04599543450664957, 0.05548655591278361, 0.9815664236841436, 0.9796303308513512, 0.2566721777382833, 0.7357935761830788, 0.9941187176694936, 0.0034518011030190746, 0.30486482839196877, 0.07786590855032968, 0.05542996879853977, 0.06994734157910971, 0.026395223237399894, 0.05279044647479979, 0.37481216997107847, 0.038273073694229845, 0.993867729739511, 0.1337017523419636, 0.840411014720914, 0.1262058109840799, 0.4350779273398544, 0.043175672178764175, 0.0008303013880531572, 0.17187238732700355, 0.016606027761063145, 0.09548465962611308, 0.058121097163721006, 0.031551452746019976, 0.02075753470132893, 0.6772092520641638, 0.3224309073772367, 0.8917778749919786, 0.10713405943220047, 0.28127667367488385, 0.014804035456572833, 0.6086103465479943, 0.059216141826291334, 0.03618764222717804, 0.9102868262660672, 0.057970073273398426, 0.03133517474237753, 0.28396539287390815, 0.07594423297790567, 0.6372711723798171, 0.9616315072213408, 0.995422411301088, 0.9801493485238337, 0.014002133550340481, 0.9938299567577129, 0.9875267674286695, 0.20283368252366513, 0.01584638144716134, 0.5419462454929178, 0.14578670931388432, 0.09507828868296803, 0.02587556310081307, 0.9573958347300836, 0.9919521911188601, 0.9925888489653226, 0.9768184260379482, 0.03267997569845217, 0.9477192952551129, 0.987758453803634, 0.9889490798678024, 0.985345237838563, 0.9672581642000346, 0.8393821889520785, 0.07330848811808545, 0.08430476133579827, 0.9852395433103484, 0.1542939897205139, 0.7139365965033947, 0.13075761840721514, 0.9908797039142949, 0.9947634176700612, 0.9971574473947106, 0.9867564486501744, 0.1530022856175068, 0.845155482458609, 0.99804125803385, 0.32264024597884927, 0.43296555805368375, 0.022555397135299495, 0.01912305409297131, 0.009806694406651955, 0.1740688257180722, 0.018632719372638714, 0.9939310134392677, 0.9946956839524003, 0.9965901407556061, 0.11613220727665484, 0.11613220727665484, 0.06468122936927612, 0.23079438661309887, 0.03822072644548134, 0.39984759973734324, 0.03234061468463806, 0.07438618470471171, 0.9174296113581112, 0.9163027415225269, 0.08347271351343931, 0.999337599651031, 0.014080591261948166, 0.033441404247126896, 0.6001852025405405, 0.15664657778917335, 0.1953682037595308, 0.9663792233075648, 0.9971298155797569, 0.99697826312168, 0.9617780307353475, 0.9979864412732432, 0.9671604007663195, 0.39567769669266667, 0.5971136150089333, 0.8255922682708209, 0.12105458479044294, 0.05205347145989046, 0.053977631233795585, 0.9356122747191234, 0.6661489842176288, 0.09615622867616133, 0.06730936007331294, 0.06196734736908175, 0.01068402540846237, 0.03205207622538711, 0.06517255499162046, 0.040229588753629766, 0.955452732898707, 0.047816009795296106, 0.944366193457098, 0.9859555229102164, 0.26674183423491443, 0.10109005819730835, 0.050120280954968004, 0.3542399518342654, 0.06626071041504245, 0.03397985149489356, 0.0654112141276701, 0.03822733293175526, 0.023785896046425493, 0.1300855716698752, 0.7098453221661569, 0.08824723915983426, 0.007031652522695957, 0.011250644036313531, 0.05379214179862407, 0.6912911044778233, 0.3069801175816775, 0.05997883779951066, 0.6730958464167308, 0.12662199091007806, 0.13995062153219154, 0.8973754227317984, 0.10151305687011294, 0.8075700228197948, 0.125980923559888, 0.06460560182558359, 0.435709757880636, 0.4560067962912246, 0.0257095819867456, 0.08254128953639377, 0.33435381415323223, 0.3391031581042725, 0.04274409555936207, 0.22606877206951498, 0.035145145237697704, 0.021846982174785062, 0.05251720127560837, 0.9453096229609507, 0.2393410560909305, 0.08513473807261286, 0.0369452636918886, 0.3726652685442676, 0.08674105388530368, 0.17669473939598895, 0.09589563496048292, 0.2065986841428051, 0.02890971348073382, 0.0007051149629447273, 0.23268793777176003, 0.18050943051385018, 0.25454650162304654, 0.8393661209044303, 0.15862036930477424, 0.06422998473531101, 0.8992197862943542, 0.9855122219516402, 0.9785934387226519, 0.023299843779110763, 0.9873197247870256, 0.36016818922059435, 0.17084901283541012, 0.468680400075517, 0.3633413272890105, 0.023441375954129706, 0.08497498783372019, 0.1933913516215701, 0.33403960734634836, 0.07858758913027257, 0.23576276739081772, 0.6837120254333714, 0.998762779982698, 0.006634486759822121, 0.15591043885581984, 0.06634486759822121, 0.7696004641393661, 0.36553680736537425, 0.1610626896480823, 0.12268447063037517, 0.19755345527147591, 0.028311800914701965, 0.028311800914701965, 0.06228596201234432, 0.0006291511314378214, 0.033974161097642355, 0.9968216534352047, 0.8590582613833636, 0.13887032044919034, 0.9974838532925004, 0.04009319547255919, 0.4249878720091274, 0.5356450915133908, 0.009481124908561825, 0.9907775529447107, 0.28063185080988573, 0.004677197513498096, 0.15902471545893526, 0.1169299378374524, 0.36482140605285146, 0.07249656145922048, 0.990674614069419, 0.2212168114412113, 0.24950659235926978, 0.05982593013818922, 0.14794164119443692, 0.09878234976305662, 0.0779128392497348, 0.025970946416578267, 0.058898396337597136, 0.022724578114505983, 0.03756511892397928, 0.0025012682584735777, 0.3326686783769858, 0.5953018455167115, 0.0025012682584735777, 0.0675342429787866, 0.9931122981725806, 0.0047745783565989455, 0.9460389516925254, 0.05407798415322287, 0.005037963820802605, 0.11083520405765732, 0.1007592764160521, 0.7859223560452064, 0.12254039376070094, 0.01021169948005841, 0.0034038998266861372, 0.07828969601378115, 0.0017019499133430686, 0.7828969601378115, 0.022201962225040898, 0.09990883001268404, 0.8769775078891154, 0.991236456139551, 0.0308777501946981, 0.03231392462235848, 0.9090984127090185, 0.02728731412554716, 0.778945315406493, 0.004210515218413476, 0.03894726577032465, 0.023157833701274118, 0.01999994728746401, 0.05578932664397856, 0.002105257609206738, 0.048420925011754976, 0.027368348919687594, 0.2480604683766533, 0.05588714109671636, 0.2098218981525842, 0.3304204657823406, 0.04019952254325212, 0.07549666428854665, 0.04019952254325212, 0.9912656427427619, 0.9946793508735206, 0.18862572387508655, 0.4963214359463215, 0.0518720740656488, 0.06130336025940313, 0.11317543432505194, 0.08841830806644682, 0.9956388121867195, 0.8972191257955291, 0.0548456832382847, 0.01406299570212428, 0.016875594842549135, 0.016172445057442923, 0.07049515164507328, 0.9164369713859526, 0.2231946931686228, 0.0025219739341087325, 0.1891480450581549, 0.3833400379845273, 0.056744413517446475, 0.041612569912794085, 0.10340093129845802, 0.1294335686266186, 0.0770047813348237, 0.758579016128157, 0.03276799205737179, 0.9869902159133909, 0.059922451704150524, 0.922805756243918, 0.07810030824793898, 0.5763264125882394, 0.13600226091451442, 0.05520883858906032, 0.06194162378284816, 0.09156587863551467, 0.0026931140775151375, 0.9708955504959378, 0.39303612921804276, 0.5376598131294438, 0.06805820419360048, 0.4392851523336833, 0.041901045299520566, 0.041901045299520566, 0.14778003073379295, 0.02027469933847769, 0.09010977483767862, 0.09326361695699738, 0.03649445880925985, 0.06623068450569379, 0.022076894835231266, 0.03743354610920826, 0.948316501433276, 0.37647512742566663, 0.3714255355525951, 0.07293854927769995, 0.023003696310659214, 0.10211396898877992, 0.029175419711079977, 0.02468689360168306, 0.9632765206747048, 0.02963927755922169, 0.937300524759185, 0.9362643484280165, 0.3165077376389019, 0.06086687262286574, 0.5508451972369349, 0.0699969035162956, 0.24849406223608395, 0.1656627081573893, 0.060578154475463254, 0.1298103310188498, 0.04821526580700136, 0.05316042127438612, 0.23489488470077588, 0.05934186560861706, 0.03606639180401422, 0.07541154649930247, 0.8885447435352595, 0.3773026619129632, 0.13545399912154826, 0.06233696153344609, 0.09889548032749718, 0.20669624087405808, 0.022966248986006455, 0.03468372295845873, 0.06139956361564991, 0.5625097687587839, 0.0031780212924225077, 0.02436482990857256, 0.18432523496050546, 0.22458017133119054, 0.03018650022390249, 0.10780892937108032, 0.8581590777937993, 0.001534089694158915, 0.09971583012032947, 0.37585197506893414, 0.27306796556028684, 0.16261350758084497, 0.08590902287289924, 0.2444199247811229, 0.02759579795915904, 0.7253752606407519, 0.9581736234872812, 0.899086865786462, 0.09792035171931765, 0.0416795170543034, 0.21000064361975943, 0.08496209245684924, 0.033664225313091205, 0.34786366156860915, 0.12984772620763751, 0.10900796768048582, 0.0416795170543034, 0.20289359283006214, 0.00882146055782879, 0.7851099896467623, 0.0015592449889560423, 0.2510384432219228, 0.10213054677662076, 0.06938640200854387, 0.1294173340833515, 0.08731771938153836, 0.12473959911648337, 0.05769206459137356, 0.17697430624651078, 0.9624304884349911, 0.03564557364574041, 0.07534623969822617, 0.9244404024513133, 0.32682302586892603, 0.1823577753036761, 0.05447050431148767, 0.4262909033072948, 0.009473131184606551, 0.7771749507541623, 0.04972190227356254, 0.09187742811419165, 0.07998740800529626, 0.254747915707297, 0.10786929053917502, 0.24864210680885312, 0.07734024604695568, 0.07157364875398091, 0.22354044800413944, 0.007801866925789388, 0.008141078531258492, 0.04610531243691635, 0.15795338520054678, 0.3850647390564681, 0.1827136455833352, 0.12465510399610719, 0.10245624985981412, 0.9805119215388903, 0.0155636812942681, 0.3246127438472754, 0.12525461429258505, 0.041314349216925964, 0.04983953238867259, 0.11017159791180256, 0.16197848026318593, 0.1868982464575222, 0.029249481945681416, 0.9652329042074868, 0.6875827435317884, 0.04832849954536531, 0.032951249690021805, 0.002196749979334787, 0.014644999862231913, 0.12667924880830606, 0.08786999917339149, 0.9957047071296814, 0.992429811884336, 0.05861787443812663, 0.18757719820200525, 0.003907858295875109, 0.08206502421337729, 0.6682437685946436, 0.005558317498649853, 0.1711961789584155, 0.029459082742844225, 0.5269284988720061, 0.03501740024149408, 0.09615889272664246, 0.11338967697245701, 0.022233269994599413, 0.9920952085653926, 0.2485121264479671, 0.7455363793439013, 0.2798489723875671, 0.049613114218294445, 0.030232991476773177, 0.4666733556158321, 0.0658924173211723, 0.05271393385693785, 0.05426434367625955, 0.9936455089505392, 0.9743659206575972, 0.9927425340578608, 0.984043263474262, 0.007899719670282477, 0.9874649587853095, 0.9879323045565971, 0.06664960955933753, 0.8479311438382386, 0.08516338999248685, 0.989815890806813, 0.9845884413882794, 0.20916091186265498, 0.7208370408825963, 0.02363400134041299, 0.046086302613805336, 0.9977097327049796, 0.9983919244271959, 0.7055129529343542, 0.19020098417665976, 0.10173541014100405, 0.7157902189129715, 0.06287928517526704, 0.0034454402835762763, 0.1309267307758985, 0.03876120319023311, 0.02842488233950428, 0.01894992155966952, 0.0232352854674731, 0.9758819896338702, 0.2510598361301283, 0.076991683079906, 0.3135458397891824, 0.024548072866056984, 0.21423772683104278, 0.018968965396498578, 0.0702967541164359, 0.029011358841703708, 0.9822040727112077, 0.9989956165020113, 0.013006379170192062, 0.9841493572111993, 0.8659181903806282, 0.13005885863424457, 0.032314662143395095, 0.0035124632764559887, 0.4861249174615088, 0.1587633400958107, 0.1559533694746459, 0.08710908925610852, 0.07586920677144936, 0.9951668454377367, 0.004143367802888856, 0.8783939742124376, 0.11601429848088798, 0.7881474040686379, 0.0678978337964536, 0.04526522253096907, 0.09851842550857974, 0.9916575890383752, 0.965089986020617, 0.9936266516696177, 0.9156290779380074, 0.001392591753517882, 0.001392591753517882, 0.02854813094711658, 0.016711101042214585, 0.014622213411937762, 0.001392591753517882, 0.02019258042600929, 0.9853891057572095, 0.1849094230962659, 0.08822475742501576, 0.0012085583208906268, 0.18732653973804717, 0.4374981121624069, 0.04834233283562507, 0.03988242458939068, 0.012085583208906268, 0.982465537143306, 0.9737342756699667, 0.9960879992524425, 0.6563278856672948, 0.03638491477046837, 0.09376112652389926, 0.07346953944036883, 0.04338201376478921, 0.09725967602105969, 0.2643505915902768, 0.6398050550083512, 0.09577919985154958, 0.9872713489206789, 0.7942375495233814, 0.06618646246028179, 0.0467869820839923, 0.042222398466041824, 0.02282291808975234, 0.02624635580321519, 0.02029301186594836, 0.028410216612327704, 0.21510592577905263, 0.730548427174141, 0.1420574861629286, 0.8523449169775715, 0.298332988102998, 0.01924728955503213, 0.10586009255267671, 0.05196768179858675, 0.5216015469413707, 0.976706461058641, 0.994318634566416, 0.9951926858386045, 0.9934384023621478, 0.998052211244477, 0.565410381937516, 0.08628345146263709, 0.2913335361150217, 0.021317088008416224, 0.03552848001402704, 0.7720234929189527, 0.12948495292628004, 0.09528138045518719, 0.9651593893739405, 0.9893599238785319, 0.9918149650120318, 0.024433912154296005, 0.9529225740175442, 0.3366279122809241, 0.22346363538648578, 0.3380603714821195, 0.030081643225103854, 0.07019050085857566, 0.9892096157290717, 0.996117896484651, 0.12460289097952247, 0.8722202368566573, 0.9792758502706814, 0.9983749952130314, 0.502469935735352, 0.029669653348182688, 0.29095401993056574, 0.03110528173599798, 0.01914171183753722, 0.04019759485882816, 0.02249151140910623, 0.06412473465574968, 0.9984593634677456, 0.018105616469636758, 0.09052808234818378, 0.07938616452071501, 0.576594247571509, 0.13509575365805887, 0.05849506859421106, 0.0417821918530079, 0.9852851397660265, 0.9803901209373533, 0.042701105855585966, 0.9394243288228912, 0.9961629676431738, 0.9649391177642654, 0.09270925320007797, 0.09875550884356132, 0.8081828376789406, 0.28849425576886456, 0.709215045431792, 0.9986056435103, 0.09156030092515952, 0.015166430214596975, 0.14801312450171492, 0.4443202333239336, 0.051678206657145245, 0.0053363365569878245, 0.010953532932764482, 0.014323850758230476, 0.07498957161661837, 0.14351936740109358, 0.6471773318917515, 0.026847967916906725, 0.053224918852815085, 0.07253661507374799, 0.0004710169809983636, 0.0763047509217349, 0.11068899053461544, 0.01318847546795418, 0.43009407880675965, 0.56675948702573, 0.996239022784171, 0.9787956497619366, 0.9924831130444999, 0.005223595331813157, 0.1532986276201489, 0.6436893987706253, 0.037912563820036826, 0.07417675530007205, 0.08983629253008726, 0.9816785510408962, 0.06295521186740952, 0.060437003392713136, 0.025182084746963807, 0.8234541712257165, 0.027700293221660188, 0.13972803361067268, 0.4790077798928749, 0.045181519850157635, 0.034304487293638206, 0.15144176097923207, 0.10207676706887465, 0.048528299098317455, 0.5690526094027211, 0.1777941061699001, 0.025638021579358634, 0.050718694863513825, 0.046259908501886236, 0.012819010789679317, 0.053505436339531066, 0.04960399827310692, 0.013933707380086214, 0.9880649386010604, 0.9914612017037567, 0.64000061711548, 0.1714551306822071, 0.05025409002754346, 0.08868368828390022, 0.04877602855614512, 0.08004508425639406, 0.6357866692365014, 0.0907177621572466, 0.036592038517208714, 0.10443977660119987, 0.01905835339437954, 0.03354270197410799, 0.2408559860022594, 0.3145935777018219, 0.03263795042439651, 0.09398520909247512, 0.09821605451785986, 0.017829991435549943, 0.04472608021121003, 0.09942486749654121, 0.027198292020330424, 0.03052252771170414, 0.09011568659352431, 0.05461556763243898, 0.05243094492714142, 0.6783253499948921, 0.06335405845362922, 0.03877705301903168, 0.021300071376651204, 0.21655793152895741, 0.7776398450358016, 0.9926314094836197, 0.23103136316000994, 0.7643697227953521, 0.002457780459149042, 0.9939400276492726, 0.9900947059844706, 0.9793746453325409, 0.14512992633346514, 0.17902888722887306, 0.5148404685990077, 0.1610200642531876, 0.9884152573686172, 0.9906209470136741, 0.994476607830604, 0.2509442313461066, 0.22760058191856178, 0.0350154741413172, 0.4357481226475029, 0.04863260297405166, 0.9892054418815653, 0.14673496459158142, 0.17040189436441713, 0.6816075774576685, 0.9921943847213699, 0.8802920078212971, 0.07348524587029959, 0.009695969941220085, 0.036742622935149793, 0.9259010241618227, 0.07363030013215291, 0.9902146157390761, 0.24974813192810874, 0.13327905117317343, 0.12487406596405437, 0.29177305797370395, 0.04922919908198298, 0.09605697381850337, 0.055232759945639434, 0.9958159531963926, 0.9362927963644568, 0.04028236449474989, 0.022862963632155342, 0.21898371707584682, 0.008358157140299497, 0.08525320283105486, 0.09193972854329446, 0.10531277996777366, 0.4229227512991545, 0.06853688855045587, 0.12148766175388254, 0.07496047214601262, 0.801301598802204, 0.9905137230263776, 0.9929164749045335, 0.004639796611703427, 0.3897358750727982, 0.0033501651152389534, 0.5650611827703035, 0.04131870308794709, 0.9925069927518345, 0.00424148287500784, 0.0007027517131792161, 0.20098698996925582, 0.5390105640084588, 0.026704565100810214, 0.10611550869006164, 0.013352282550405107, 0.027407316813989432, 0.024596309961272565, 0.06043664733341259, 0.9160213647148653, 0.0828781234742021, 0.9743847911549262, 0.6995994478553823, 0.11659990797589706, 0.03581827238475269, 0.07239863567130864, 0.01676599983967147, 0.057918908537046905, 0.20318808522262205, 0.27540553719933714, 0.0012240246097748315, 0.025704516805271464, 0.002448049219549663, 0.06609732892784091, 0.39658397356704544, 0.02937659063459596, 0.997646019589608, 0.9954472662252348, 0.9727174034921865, 0.013249834568170254, 0.9804877580445988, 0.974233761320401, 0.2893230533829879, 0.16039664012109506, 0.05177359902642942, 0.06497079093512712, 0.023348877992311307, 0.04466741876789989, 0.36546069901009004, 0.9793533680745761, 0.9964985527059005, 0.9974224316792917, 0.5714717010454797, 0.21795179839143294, 0.020856631425017508, 0.021899462996268382, 0.16685305140014006, 0.9776547309322171, 0.935198538135282, 0.987853505878028, 0.4453367216489077, 0.307797353194075, 0.03029501507815699, 0.009088504523447097, 0.11633285790012284, 0.012723906332825935, 0.03635401809378839, 0.04241302110941978, 0.11151541435917216, 0.8828303636767796, 0.6122062800976226, 0.04064440033843137, 0.06414194428408701, 0.08319400694272672, 0.09208496951675858, 0.04890029415717525, 0.014606581371623774, 0.02794302523267157, 0.015876718882199756, 0.01327533948780922, 0.21572426667689984, 0.1924924225732337, 0.01991300923171383, 0.5608830933599396, 0.2676500844143039, 0.04555746117690279, 0.6833619176535418, 0.542207114096948, 0.02374998542642736, 0.2572072889798197, 0.07175527511814224, 0.009601057938342976, 0.08236697073420553, 0.013138289810364072, 0.9885545275414107, 0.008102905963454187, 0.04307455313836265, 0.16799075723961435, 0.18952803380879565, 0.45443653560972597, 0.0861491062767253, 0.05815064673678958, 0.7544857962654704, 0.028917574072892593, 0.03259799259126074, 0.02208251111020889, 0.02996912222099778, 0.018927866665893335, 0.11251565184725482, 0.9950882388652782, 0.8783670976133677, 0.12004350334049359, 0.059392555346781686, 0.2194942262815845, 0.655900393829676, 0.06713941039201408, 0.9569077384507634, 0.9958697138594815, 0.7497808682961016, 0.05699744845197637, 0.022916499893062665, 0.02938012806802906, 0.04583299978612533, 0.06757429455646684, 0.027029717822586733, 0.8955161474279041, 0.040463274200071765, 0.017569579586873267, 0.017569579586873267, 0.011180641555282988, 0.017037168084240745, 0.26239100682545063, 0.11835118839329767, 0.06513902616995453, 0.10458942230105375, 0.18899492100014975, 0.08807530299036105, 0.1715633506166408, 0.2805638993036954, 0.11850532930878109, 0.0698877583103068, 0.11546673112137645, 0.15901997180750968, 0.07292635649771144, 0.18434162336921503, 0.979873658676447, 0.9934809830301863, 0.98388689598821, 0.7503779508462375, 0.07459025356324428, 0.06340171552875765, 0.04848366481610879, 0.02834429635403283, 0.03505741917472482, 0.9986742766347386, 0.9739934768201022, 0.9816934561389917, 0.7726316591836567, 0.22251791784489314, 0.43117053730243365, 0.18857572474275003, 0.043215270253546885, 0.05696558351603907, 0.09330569713833986, 0.1600929329847305, 0.025536296058914068, 0.008363586540727077, 0.1923624904367228, 0.37357353215247613, 0.42654291357708096, 0.43484980041046056, 0.08063071746741277, 0.0539391696161313, 0.3653405612144151, 0.06506064788749857, 0.9367598764389875, 0.7049769194629711, 0.016961850693845922, 0.07738844379067202, 0.057246246091729985, 0.10071098849471016, 0.009541041015288331, 0.031803470050961104, 0.9091510885752074, 0.0037646007808497203, 0.045175209370196645, 0.04141060858934693, 0.13211422643407988, 0.8204988799590224, 0.046355868924238555, 0.9647965167352303, 0.9951017398362778, 0.2979275429141259, 0.6919607448328086, 0.9836506538599409, 0.021943832700936614, 0.1062081502725332, 0.7768116776131562, 0.044765418709910694, 0.01931057277682422, 0.03072136578131126, 0.9985002307991155, 0.49843346489556195, 0.0007936838612986655, 0.038890509203634606, 0.0896862763267492, 0.10714732127531984, 0.007143154751687989, 0.038096825342335945, 0.06270102504259457, 0.13492625642077313, 0.02142946425506397, 0.013881575698880474, 0.28457230182704973, 0.6940787849440238, 0.7109706117917791, 0.06791221258880631, 0.0009367201736387077, 0.04496256833465797, 0.05151960955012892, 0.016392603038677386, 0.022481284167328985, 0.02294964425414834, 0.061355171373335356, 0.9813833781474519, 0.9813892586043401, 0.9812936702999948, 0.9890417469657242, 0.3483906147664987, 0.5680964078624888, 0.08160500886422492, 0.9686065727700655, 0.9712320888082316, 0.12178811215262653, 0.23514473961776353, 0.3410067140273543, 0.04122059180550436, 0.16394553559007416, 0.051525739756880455, 0.0440310867013342, 0.9915035507649422, 0.9966410014790626, 0.5284158242230759, 0.14986854672341515, 0.019810210199072118, 0.0370364799373957, 0.046941585036931764, 0.08699266217853409, 0.04091239062851851, 0.022394150659820658, 0.03488319622010525, 0.032729912502814804, 0.9985376896695057, 0.3801248724980665, 0.29802984113395525, 0.07761712056243242, 0.04527665366141891, 0.11095267875270788, 0.027862556099334714, 0.04676929059531184, 0.01343373240503638, 0.9928695330567998, 0.3181142119860525, 0.07507120046868494, 0.17078698106625825, 0.41289160257776725, 0.022521360140605486, 0.20433304750785744, 0.2396135736962645, 0.05292078928261056, 0.3601553715066552, 0.06909103045229713, 0.03822057003744096, 0.03528052618840704, 0.9973579227274159, 0.9937271428667623, 0.7149095843737718, 0.030092894905380613, 0.01545310819465491, 0.016266429678584115, 0.14395790265546943, 0.07807886245720376, 0.9927254894162861, 0.06514203061312485, 0.8310543905492594, 0.0592200278301135, 0.04540202133642035, 0.9926002913720054, 0.8747028298654946, 0.11952461029217938, 0.7895694404720642, 0.02770419089375664, 0.1828476598987938, 0.9996240435465382, 0.5799382985784232, 0.05083124529372633, 0.15076085251889287, 0.02426036707200575, 0.012130183536002875, 0.07855737909030433, 0.05776277874287083, 0.03119190052115025, 0.014440694685717707, 0.237290170414037, 0.76235778154297, 0.6303393175811162, 0.06138696442001369, 0.12327300985157222, 0.023955888554151684, 0.043919129015944754, 0.020961402484882725, 0.027449455634965474, 0.026451293611875818, 0.0279485366465103, 0.013475187311710322, 0.8964730391374398, 0.10193133681154563, 0.3886874425162254, 0.29020244863542505, 0.2304548856810728, 0.09060619437033632, 0.015754116652731062, 0.6509826059717799, 0.024193822002408417, 0.16766881294692346, 0.07201881898391344, 0.05570205530787054, 0.013503528559483767, 0.5693761671485821, 0.0694584088335349, 0.09870405465818116, 0.039298836576868425, 0.1983220357483825, 0.023762087232525094, 0.0024260976679175207, 0.46823684990808145, 0.5288892916060195, 0.06718357331529656, 0.17080569486939803, 0.38943698430222756, 0.0933737798619376, 0.15827994391230885, 0.031883729708954305, 0.05351911772574472, 0.03416113897387961, 0.9716142851966985, 0.970631554499659, 0.9789914487561966, 0.9878588795580406, 0.035160909594804925, 0.9493445590597329, 0.09189469365746218, 0.5143359719634077, 0.27842720615619143, 0.030174377021853254, 0.08366531810604766, 0.43935354839490537, 0.045093151985052704, 0.062155425709126695, 0.0408275835540342, 0.08896757013267155, 0.11212351304391482, 0.18707564404609703, 0.023765309829960207, 0.9642114170583774, 0.030368863529397716, 0.9741631931258344, 0.7132948358269944, 0.04315865343287645, 0.14438531330271395, 0.0007847027896886627, 0.04786687017100843, 0.029818706008169184, 0.019617569742216567, 0.9940197177242863, 0.9934428976642403, 0.00942683269306998, 0.2733781480990294, 0.7164392846733184, 0.5661700291364348, 0.08122955941699209, 0.1908894646299314, 0.008122955941699208, 0.015433616289228496, 0.02030738985424802, 0.06620209092484855, 0.05198691802687493, 0.9939254190406764, 0.19084365640647016, 0.8042696948558385, 0.9979145911488798, 0.32376492549561453, 0.6748700002553032], \"Term\": [\"9to5mac\", \"ability\", \"ability\", \"ability\", \"ability\", \"ability\", \"ability\", \"ability\", \"ability\", \"access\", \"access\", \"access\", \"access\", \"access\", \"access\", \"access\", \"access\", \"access\", \"account\", \"account\", \"account\", \"account\", \"account\", \"account\", \"account\", \"account\", \"acquired\", \"acquired\", \"acquired\", \"act\", \"act\", \"act\", \"act\", \"act\", \"act\", \"activated\", \"ad\", \"ad\", \"ad\", \"ad\", \"ad\", \"ad\", \"ad\", \"ad\", \"ad\", \"address\", \"address\", \"address\", \"address\", \"address\", \"address\", \"address\", \"advertiser\", \"advertiser\", \"advertiser\", \"advertiser\", \"advertiser\", \"advocacy_group\", \"advocate\", \"advocate\", \"advocate\", \"ago\", \"ago\", \"ai\", \"ai\", \"ai\", \"ai\", \"aid\", \"alastair\", \"alastair_mactaggart\", \"alexa\", \"alexa\", \"alphabet\", \"alphabet_inc\", \"amazon\", \"amazon\", \"amazon\", \"amazon\", \"amazon\", \"amazon\", \"amendment\", \"amendment\", \"american\", \"american\", \"american\", \"american\", \"american\", \"american\", \"american\", \"analytica\", \"analytica\", \"analytica\", \"android\", \"android\", \"android\", \"android\", \"android\", \"anonymous\", \"anonymous\", \"answer_question\", \"anti\", \"anti\", \"anti_competitive\", \"antitrust\", \"ap\", \"app\", \"app\", \"app\", \"app\", \"app\", \"app\", \"app\", \"app\", \"app\", \"app_store\", \"appeal\", \"apple\", \"apple\", \"apple\", \"apple\", \"apple\", \"apple\", \"apple\", \"apple\", \"apple\", \"apple_ceo\", \"approach\", \"approach\", \"approach\", \"apps\", \"apps\", \"apps\", \"apps\", \"apps\", \"apps\", \"apps\", \"apps\", \"apps\", \"arguing\", \"around\", \"around\", \"around\", \"around\", \"around\", \"around\", \"around\", \"around\", \"array\", \"array\", \"array\", \"article\", \"article\", \"article\", \"article\", \"asia\", \"assistant\", \"assistant\", \"assistant\", \"audio\", \"audio\", \"australia\", \"australian\", \"austrian\", \"auto_affiliate\", \"automation\", \"avoiding\", \"ballot\", \"based\", \"based\", \"based\", \"based\", \"based\", \"based\", \"based\", \"based\", \"based\", \"block\", \"block\", \"block\", \"block\", \"block\", \"blockchain\", \"bookmark\", \"brave\", \"browse_web\", \"browser\", \"browser\", \"browser\", \"browser\", \"browser\", \"browser\", \"browser\", \"browser_extension\", \"browsing_experience\", \"buried\", \"business\", \"business\", \"business\", \"business\", \"business\", \"business\", \"business\", \"business\", \"bypass\", \"california\", \"california\", \"california\", \"california_attorney\", \"california_consumer\", \"california_law\", \"california_resident\", \"californian\", \"call\", \"call\", \"call\", \"call\", \"call\", \"call\", \"call\", \"cambridge\", \"cambridge\", \"cambridge\", \"cambridge_analytica\", \"cambridge_analytica\", \"cambridge_analytica\", \"camera\", \"camera\", \"camera\", \"capability\", \"capability\", \"capability\", \"carried\", \"case\", \"case\", \"case\", \"case\", \"case\", \"case\", \"case\", \"case\", \"ccpa\", \"ccpa\", \"cellphone\", \"central\", \"central\", \"ceo\", \"ceo\", \"ceo\", \"ceo\", \"change\", \"change\", \"change\", \"change\", \"change\", \"change\", \"change\", \"change\", \"change\", \"change\", \"changed\", \"changed\", \"changed\", \"check_9to5mac\", \"checking\", \"checking\", \"child\", \"child\", \"chinese\", \"circuit\", \"civil_liberty\", \"civil_liberty\", \"clause\", \"client\", \"client\", \"cloudflare\", \"cnet\", \"co\", \"co\", \"coin\", \"collaborate\", \"collaborative\", \"collect\", \"collect\", \"collect\", \"collect\", \"collect\", \"collect\", \"com\", \"com\", \"com\", \"com\", \"com\", \"com\", \"command\", \"command\", \"comment\", \"comment\", \"comment\", \"comment\", \"comment\", \"comment\", \"commission\", \"commission\", \"commissioner\", \"communicate\", \"communicate\", \"communication\", \"communication\", \"communication\", \"communication\", \"communication\", \"communication\", \"community\", \"community\", \"community\", \"community\", \"compatibility\", \"competitive\", \"competitive\", \"complaint\", \"comply\", \"comply\", \"comply_gdpr\", \"compute\", \"concept\", \"config\", \"connected\", \"connected\", \"connected\", \"connected\", \"connected\", \"connected\", \"connected\", \"consent\", \"consent\", \"consent\", \"consent\", \"consent\", \"consent\", \"consent_decree\", \"consumer\", \"consumer\", \"consumer\", \"consumer\", \"contact_tracing\", \"contact_tracing\", \"container\", \"contains\", \"content\", \"content\", \"content\", \"content\", \"content\", \"content\", \"content\", \"content\", \"controller\", \"cook\", \"cooky\", \"cooky\", \"cooky\", \"coronavirus\", \"coronavirus\", \"coronavirus\", \"coronavirus_pandemic\", \"coronavirus_pandemic\", \"corp\", \"corporate\", \"corporate\", \"corporate\", \"cost\", \"cost\", \"cost\", \"could\", \"could\", \"could\", \"could\", \"could\", \"could\", \"could\", \"could\", \"could\", \"could\", \"court\", \"court\", \"court\", \"covid\", \"covid\", \"covid_pandemic\", \"cryptographic\", \"cryptographic\", \"customer\", \"customer\", \"customer\", \"customer\", \"customer\", \"customer\", \"customer\", \"customer\", \"customize\", \"dark\", \"dark\", \"data_controller\", \"data_protection\", \"data_protection\", \"data_protection\", \"debate\", \"decentralized\", \"decentralized\", \"decentralized\", \"decision\", \"decision\", \"decision\", \"decision\", \"declined\", \"declined\", \"declined_comment\", \"decree\", \"deep_learning\", \"default\", \"default\", \"default\", \"default\", \"demographic\", \"demonstrated\", \"deploy\", \"developer\", \"developer\", \"developer\", \"developer\", \"developer\", \"developer\", \"developer_conference\", \"developer_conference\", \"device\", \"device\", \"device\", \"device\", \"device\", \"device\", \"device\", \"device\", \"device\", \"device_id\", \"device_id\", \"differentially\", \"differentially_private\", \"digital\", \"digital\", \"digital\", \"digital\", \"digital\", \"digital\", \"digital\", \"digital\", \"digital\", \"digital_age\", \"directory\", \"directory\", \"disabled\", \"disabled\", \"disabled\", \"display\", \"display\", \"display\", \"distributed\", \"distributed\", \"dns\", \"dns\", \"doh\", \"domain\", \"domain\", \"domain\", \"download\", \"download\", \"download\", \"download\", \"download\", \"dublin\", \"duckduckgo\", \"duckduckgo\", \"dutch\", \"earlier_week\", \"earth\", \"echo\", \"echo\", \"echo\", \"economy\", \"edit\", \"education\", \"education\", \"educational\", \"educational\", \"edward\", \"edward_snowden\", \"effect\", \"effect\", \"effect\", \"efficiently\", \"eight\", \"email\", \"email\", \"email\", \"email\", \"email\", \"email\", \"email\", \"email_address\", \"email_address\", \"email_address\", \"email_address\", \"email_address\", \"employee\", \"employee\", \"employee\", \"employee\", \"employee\", \"employee\", \"employee\", \"end\", \"end\", \"end\", \"end\", \"end\", \"end\", \"enforcement\", \"enforcement\", \"enforcement\", \"enforcement\", \"enough\", \"enough\", \"enterprise\", \"enterprise\", \"erase\", \"estate\", \"eu\", \"eu\", \"eu\", \"eu\", \"europe\", \"europe\", \"europe\", \"european\", \"european\", \"european\", \"european_commission\", \"evaluation\", \"even\", \"even\", \"even\", \"even\", \"even\", \"even\", \"even\", \"even\", \"even\", \"ever\", \"ever\", \"ever\", \"ever\", \"expanding\", \"experience\", \"experience\", \"experience\", \"experience\", \"experience\", \"experience\", \"experience\", \"experience\", \"experience\", \"experimental\", \"expert\", \"expert\", \"explain\", \"extension\", \"extent\", \"external\", \"extracted\", \"extreme\", \"eye\", \"facebook\", \"facebook\", \"facebook\", \"facebook\", \"facebook\", \"facebook\", \"facebook\", \"facebook_ceo\", \"facebook_inc\", \"facial\", \"facial_recognition\", \"fails\", \"false\", \"false\", \"false\", \"false\", \"fast\", \"feature\", \"feature\", \"feature\", \"feature\", \"feature\", \"feature\", \"feature\", \"feature\", \"federal\", \"federal\", \"federal\", \"federal\", \"fellow\", \"fellow\", \"fi\", \"file\", \"file\", \"file\", \"file\", \"file\", \"file\", \"file_photo\", \"fine\", \"fine\", \"fine\", \"fine\", \"fine_percent\", \"fingerprint\", \"fingerprint\", \"fingerprinting\", \"firefox\", \"firewall\", \"firm\", \"firm\", \"firm\", \"firm\", \"follower\", \"foundation\", \"foundation\", \"foundation\", \"founder\", \"founder\", \"fourth\", \"fourth\", \"free\", \"free\", \"free\", \"free\", \"free\", \"friday\", \"friday\", \"ftc\", \"ftc\", \"ftc\", \"functionality\", \"functionality\", \"functionality\", \"fundamental_right\", \"gate\", \"gdpr\", \"gdpr\", \"gdpr\", \"gdpr\", \"general\", \"general\", \"general\", \"general\", \"general\", \"general\", \"general\", \"general_data\", \"get\", \"get\", \"get\", \"get\", \"get\", \"get\", \"get\", \"get\", \"git\", \"give\", \"give\", \"give\", \"give\", \"give\", \"give\", \"give\", \"going\", \"going\", \"going\", \"going\", \"going\", \"going\", \"google\", \"google\", \"google\", \"google\", \"google\", \"google\", \"google\", \"google\", \"google\", \"google_analytics\", \"google_chrome\", \"google_chrome\", \"google_chrome\", \"government\", \"government\", \"government\", \"government\", \"government\", \"government_surveillance\", \"greatly\", \"guarantee\", \"guarantee\", \"hacker\", \"hand\", \"hand\", \"hand\", \"hand\", \"hand\", \"hand\", \"header\", \"help\", \"help\", \"help\", \"help\", \"help\", \"help\", \"help\", \"help\", \"help\", \"help_center\", \"hint\", \"historical\", \"historical\", \"hit\", \"hit\", \"home\", \"home\", \"home\", \"home\", \"home\", \"home\", \"home\", \"home\", \"hosted\", \"hotel\", \"hotel\", \"however\", \"however\", \"however\", \"however\", \"however\", \"however\", \"however\", \"however\", \"however\", \"however\", \"http\", \"http\", \"human\", \"human\", \"id\", \"id\", \"id\", \"id\", \"id\", \"idea\", \"idea\", \"idea\", \"identifier\", \"identifier\", \"identifier\", \"idfa\", \"ii\", \"illustration\", \"illustration\", \"imagine\", \"imessage\", \"improvement\", \"improvement\", \"improvement\", \"improvement\", \"improvement\", \"inadvertently\", \"inadvertently\", \"inbox\", \"inc\", \"income_earning\", \"incoming\", \"incoming\", \"index\", \"indian\", \"infected\", \"infection\", \"input\", \"input\", \"input\", \"instagram_whatsapp\", \"install\", \"install\", \"install\", \"installation\", \"installing\", \"instruction\", \"intelligence_agency\", \"intelligent\", \"intelligent\", \"interesting\", \"internet\", \"internet\", \"internet\", \"internet\", \"internet\", \"internet\", \"internet\", \"internet_connection\", \"internet_traffic\", \"interview\", \"io\", \"io\", \"io\", \"io\", \"io\", \"io\", \"io\", \"iot\", \"iot\", \"ip\", \"ip\", \"ip_address\", \"iphone\", \"iphone\", \"iphone\", \"iphone\", \"iphone\", \"iphone_ipad\", \"ireland\", \"irish\", \"jason\", \"job\", \"jonathan\", \"june\", \"june\", \"kind\", \"kind\", \"kind\", \"kit\", \"kit\", \"know\", \"know\", \"know\", \"know\", \"know\", \"know\", \"know\", \"lab\", \"lab\", \"label\", \"label\", \"large_number\", \"last\", \"last\", \"last\", \"last\", \"last\", \"last\", \"last\", \"last\", \"last\", \"law\", \"law\", \"law\", \"law\", \"law\", \"law\", \"law_enforcement\", \"law_enforcement\", \"lawmaker\", \"lawmaker\", \"lawmaker\", \"lawmaker\", \"lawyer\", \"lawyer\", \"legislation\", \"legislation\", \"legislation\", \"letter\", \"letter\", \"letter\", \"letter\", \"level\", \"level\", \"level\", \"level\", \"level\", \"level\", \"liberty\", \"liberty\", \"list\", \"list\", \"list\", \"list\", \"list\", \"list\", \"location\", \"location\", \"location\", \"location\", \"location\", \"location\", \"location\", \"location_tracking\", \"location_tracking\", \"lockdown\", \"lockdown\", \"logic\", \"logo\", \"logo\", \"mactaggart\", \"mail\", \"mail\", \"mail\", \"major\", \"major\", \"major\", \"major\", \"major\", \"manage\", \"manage\", \"manage\", \"managed\", \"management\", \"management\", \"management\", \"management\", \"many\", \"many\", \"many\", \"many\", \"many\", \"many\", \"many\", \"many\", \"many\", \"many_people\", \"map\", \"map\", \"mapping\", \"mark\", \"mark\", \"mark\", \"mark_zuckerberg\", \"mark_zuckerberg\", \"market\", \"market\", \"market\", \"market\", \"market\", \"market\", \"marketer\", \"may\", \"may\", \"may\", \"may\", \"may\", \"may\", \"may\", \"may\", \"may\", \"may\", \"measure\", \"measure\", \"measure\", \"measure\", \"measure\", \"medical\", \"medical\", \"medium\", \"medium\", \"mention\", \"mention\", \"mention\", \"mention\", \"message\", \"message\", \"message\", \"message\", \"message\", \"message\", \"messaging\", \"messaging\", \"messaging\", \"messaging_service\", \"microsoft\", \"microsoft\", \"microsoft\", \"microsoft\", \"might\", \"might\", \"might\", \"might\", \"might\", \"might\", \"might\", \"might\", \"might\", \"million\", \"million\", \"million\", \"million\", \"million\", \"million\", \"million\", \"minimal\", \"ministry\", \"mobile\", \"mobile\", \"mobile\", \"mobile\", \"mobile\", \"mobile\", \"mobile_apps\", \"model\", \"model\", \"model\", \"model\", \"model\", \"module\", \"module\", \"month\", \"month\", \"month\", \"month\", \"month\", \"month\", \"month\", \"mozilla\", \"mozilla\", \"mozilla\", \"mozilla\", \"mozilla_firefox\", \"music\", \"music\", \"name\", \"name\", \"name\", \"name\", \"name\", \"name\", \"name\", \"namely\", \"national\", \"national\", \"national\", \"need\", \"need\", \"need\", \"need\", \"need\", \"need\", \"need\", \"need\", \"need\", \"need\", \"negotiation\", \"negotiation\", \"network\", \"network\", \"network\", \"network\", \"network\", \"network\", \"network\", \"news_feed\", \"news_feed\", \"nutrition\", \"nutrition_label\", \"o\", \"o\", \"o\", \"o\", \"offer\", \"offer\", \"offer\", \"offer\", \"offer\", \"offer\", \"offer\", \"offer\", \"office\", \"office\", \"office\", \"online\", \"online\", \"online\", \"online\", \"online\", \"online\", \"online\", \"online\", \"open\", \"open\", \"open\", \"open\", \"open\", \"open_source\", \"open_source\", \"open_source\", \"option\", \"option\", \"option\", \"option\", \"option\", \"option\", \"organisation\", \"organisation\", \"organisation\", \"outbreak\", \"output\", \"output\", \"page\", \"page\", \"page\", \"page\", \"page\", \"page\", \"page\", \"page\", \"pandemic\", \"pandemic\", \"pandemic\", \"party\", \"party\", \"party\", \"party\", \"party\", \"party\", \"party\", \"party\", \"party\", \"patch\", \"patch\", \"performance\", \"performance\", \"permission\", \"permission\", \"permission\", \"permission\", \"permission\", \"person\", \"person\", \"person\", \"person\", \"personal\", \"personal\", \"personal\", \"personal\", \"personal\", \"personal\", \"personal\", \"personal\", \"personal_data\", \"personal_data\", \"personal_data\", \"personal_data\", \"personal_data\", \"personal_data\", \"personalization\", \"personalization\", \"phone\", \"phone\", \"phone\", \"phone\", \"phone\", \"phone\", \"phone\", \"plaintiff\", \"plaintiff\", \"platform\", \"platform\", \"platform\", \"platform\", \"platform\", \"platform\", \"platform\", \"please_note\", \"plugins\", \"police\", \"police\", \"police\", \"police\", \"police\", \"policy\", \"policy\", \"policy\", \"policy\", \"policy\", \"policy\", \"policy\", \"policy\", \"poll\", \"pop\", \"pop\", \"post\", \"post\", \"post\", \"post\", \"post\", \"post\", \"post\", \"pre_installed\", \"precisely\", \"preserving\", \"presumably\", \"prevention\", \"prevention\", \"preview\", \"privacy_act\", \"privacy_act\", \"privacy_act\", \"privacy_friendly\", \"privacy_label\", \"privacy_policy\", \"privacy_policy\", \"privacy_policy\", \"privacy_policy\", \"privacy_preserving\", \"proactively\", \"processing\", \"processing\", \"processing\", \"profile\", \"profile\", \"profile\", \"profile\", \"profile\", \"profile\", \"profile\", \"profiling\", \"profiling\", \"project\", \"project\", \"project\", \"project\", \"project\", \"project\", \"project\", \"project\", \"promoting\", \"proof\", \"proposal\", \"proposal\", \"proposed\", \"proposed\", \"protection\", \"protection\", \"protection\", \"protection\", \"protection\", \"protection\", \"protection\", \"protection_regulation\", \"protocol\", \"protocol\", \"protocol\", \"provider\", \"provider\", \"provider\", \"provider\", \"provision\", \"proximity\", \"pt\", \"public\", \"public\", \"public\", \"public\", \"public\", \"public\", \"public\", \"public\", \"public_health\", \"purpose\", \"purpose\", \"purpose\", \"purpose\", \"purpose\", \"purpose\", \"purpose\", \"purpose\", \"python\", \"quantity\", \"quarter\", \"question\", \"question\", \"question\", \"question\", \"question\", \"question\", \"reading\", \"reading\", \"reading\", \"real_estate\", \"really\", \"really\", \"really\", \"really\", \"really\", \"really\", \"receive\", \"receive\", \"receive\", \"receive\", \"recommended\", \"recommended\", \"record\", \"record\", \"record\", \"record\", \"record\", \"redirect\", \"referring\", \"regime\", \"regular\", \"regulate\", \"regulation\", \"regulation\", \"regulation\", \"regulation\", \"regulation\", \"regulator\", \"regulator\", \"regulator\", \"rejected\", \"remedy\", \"remote\", \"rep\", \"rep\", \"research\", \"research\", \"research\", \"research\", \"research\", \"respective\", \"restart\", \"restrict\", \"restrict\", \"retail\", \"reuters\", \"right\", \"right\", \"right\", \"right\", \"right\", \"right\", \"right\", \"right\", \"ring\", \"risk\", \"risk\", \"risk\", \"risk\", \"risk\", \"risk\", \"risk\", \"rival\", \"robot\", \"rolled\", \"rolled\", \"ruled\", \"ryan\", \"safari\", \"safari\", \"safari\", \"safer\", \"safer\", \"safety\", \"said\", \"said\", \"said\", \"said\", \"said\", \"said\", \"said\", \"said\", \"said\", \"said\", \"say\", \"say\", \"say\", \"say\", \"say\", \"say\", \"say\", \"say\", \"school\", \"school\", \"schrems\", \"screenshots\", \"script\", \"script\", \"search\", \"search\", \"search\", \"search\", \"search\", \"secrecy\", \"section\", \"section\", \"section\", \"section\", \"section\", \"security\", \"security\", \"security\", \"security\", \"security\", \"security\", \"security\", \"see\", \"see\", \"see\", \"see\", \"see\", \"see\", \"see\", \"see\", \"see\", \"selected\", \"send_message\", \"sent\", \"sent\", \"sent\", \"sent\", \"sent\", \"server\", \"server\", \"server\", \"server\", \"server\", \"server\", \"server\", \"service\", \"service\", \"service\", \"service\", \"service\", \"service\", \"service\", \"service\", \"service\", \"service\", \"setting\", \"setting\", \"setting\", \"setting\", \"setting\", \"setting\", \"setting\", \"shop\", \"shop\", \"short_term\", \"signal\", \"signal\", \"signal\", \"signal_telegram\", \"singapore\", \"siri\", \"site\", \"site\", \"site\", \"site\", \"sits\", \"skeptical\", \"skill\", \"smart\", \"smart\", \"smart\", \"smart\", \"smart\", \"smart_home\", \"smart_speaker\", \"smart_speaker\", \"smart_speaker\", \"snowden\", \"social\", \"social\", \"social\", \"social\", \"social_medium\", \"social_medium\", \"sole\", \"solution\", \"solution\", \"solution\", \"solution\", \"solution\", \"solution\", \"solution\", \"solve_problem\", \"someone\", \"someone\", \"someone\", \"source\", \"source\", \"source\", \"source\", \"source\", \"source\", \"source\", \"speaker\", \"speaker\", \"speaker\", \"spec\", \"spread\", \"spread\", \"standard\", \"standard\", \"standard\", \"standard\", \"startup\", \"startup\", \"state\", \"state\", \"state\", \"state\", \"state\", \"state\", \"state\", \"state\", \"state\", \"statistic\", \"statistic\", \"statistical\", \"still\", \"still\", \"still\", \"still\", \"still\", \"still\", \"store\", \"store\", \"store\", \"store\", \"store\", \"store\", \"store\", \"store\", \"struggling\", \"stuff\", \"sued\", \"sum\", \"sum\", \"superior\", \"support\", \"support\", \"support\", \"support\", \"support\", \"support\", \"support\", \"supported_browser\", \"supreme\", \"supreme_court\", \"surveillance\", \"surveillance\", \"surveillance\", \"surveillance\", \"surveillance\", \"switched\", \"symptom\", \"sync\", \"system\", \"system\", \"system\", \"system\", \"system\", \"system\", \"system\", \"system\", \"tab\", \"tab\", \"take\", \"take\", \"take\", \"take\", \"take\", \"take\", \"take\", \"take\", \"take\", \"targeted\", \"targeted\", \"targeted\", \"targeted\", \"targeted\", \"targeted_ad\", \"targeted_ad\", \"targeted_ad\", \"tech\", \"tech\", \"tech\", \"tech\", \"tech\", \"tech\", \"tech\", \"techcrunch\", \"techcrunch\", \"technical\", \"technical\", \"technical\", \"technical\", \"technical\", \"technical\", \"technology\", \"technology\", \"technology\", \"technology\", \"technology\", \"technology\", \"technology\", \"telegram\", \"telemetry\", \"telemetry\", \"text\", \"text\", \"text\", \"text\", \"text_message\", \"theme\", \"thing\", \"thing\", \"thing\", \"thing\", \"thing\", \"thing\", \"thing\", \"think\", \"think\", \"think\", \"think\", \"think\", \"think\", \"third\", \"third\", \"third\", \"third\", \"third\", \"third\", \"third\", \"third_party\", \"third_party\", \"third_party\", \"third_party\", \"third_party\", \"third_party\", \"third_party\", \"tim_cook\", \"tl\", \"told_reuters\", \"tool\", \"tool\", \"tool\", \"tool\", \"tool\", \"tool\", \"tor\", \"tor_browser\", \"tower\", \"tracing\", \"tracing\", \"track\", \"track\", \"track\", \"track\", \"track\", \"track\", \"track\", \"tracker\", \"tracker\", \"tracker\", \"tracker\", \"tracking\", \"tracking\", \"tracking\", \"tracking\", \"tracking\", \"tracking_transparency\", \"traffic\", \"traffic\", \"traffic\", \"traffic\", \"traffic\", \"traffic\", \"traffic\", \"transaction\", \"transaction\", \"transaction\", \"transaction\", \"transfer\", \"transfer\", \"transfer\", \"transformation\", \"translation\", \"trial\", \"trial\", \"trip\", \"true\", \"true\", \"true\", \"true\", \"true\", \"true\", \"tv\", \"two\", \"two\", \"two\", \"two\", \"two\", \"two\", \"two\", \"two\", \"two\", \"two\", \"two_year\", \"two_year\", \"two_year\", \"u\", \"u\", \"u\", \"u\", \"u\", \"u\", \"u\", \"u\", \"u\", \"ublock\", \"ubuntu\", \"ui\", \"unencrypted\", \"university\", \"university\", \"university\", \"unlimited\", \"unsubscribe\", \"update\", \"update\", \"update\", \"update\", \"update\", \"update\", \"update\", \"ups\", \"urge\", \"used\", \"used\", \"used\", \"used\", \"used\", \"used\", \"used\", \"used\", \"used\", \"used\", \"user_agent\", \"using\", \"using\", \"using\", \"using\", \"using\", \"using\", \"using\", \"using\", \"vast_amount\", \"version\", \"version\", \"version\", \"version\", \"version\", \"via\", \"via\", \"via\", \"via\", \"via\", \"via\", \"via\", \"victim\", \"victory\", \"video\", \"video\", \"video\", \"video\", \"video\", \"video\", \"virus\", \"voice\", \"voice\", \"voice\", \"voice\", \"voice_assistant\", \"volume\", \"volume\", \"vpn\", \"vpn\", \"vpn\", \"vpns\", \"want\", \"want\", \"want\", \"want\", \"want\", \"want\", \"want\", \"want\", \"want\", \"warrant\", \"warrant\", \"way\", \"way\", \"way\", \"way\", \"way\", \"way\", \"way\", \"way\", \"way\", \"way\", \"weather\", \"weather\", \"web\", \"web\", \"web\", \"web\", \"website\", \"website\", \"website\", \"website\", \"website\", \"website\", \"website\", \"well\", \"well\", \"well\", \"well\", \"well\", \"well\", \"whatsapp\", \"whatsapp\", \"whatsapp\", \"whether\", \"whether\", \"whether\", \"whether\", \"whether\", \"whether\", \"whether\", \"whether\", \"wi\", \"wi_fi\", \"widget\", \"wifi\", \"wikipedia\", \"wikipedia\", \"window\", \"window\", \"window\", \"window\", \"window\", \"work\", \"work\", \"work\", \"work\", \"work\", \"work\", \"work\", \"work\", \"worker\", \"worker\", \"workplace\", \"world\", \"world\", \"world\", \"world\", \"world\", \"world\", \"world\", \"worse\", \"www\", \"wyden\", \"wyden\", \"wyden\", \"year\", \"year\", \"year\", \"year\", \"year\", \"year\", \"year\", \"year\", \"yes\", \"zip\", \"zip\", \"zoom\", \"zuckerberg\", \"zuckerberg\"]}, \"R\": 30, \"lambda.step\": 0.01, \"plot.opts\": {\"xlab\": \"PC1\", \"ylab\": \"PC2\"}, \"topic.order\": [4, 10, 2, 3, 6, 8, 1, 5, 9, 7]};\n",
              "\n",
              "function LDAvis_load_lib(url, callback){\n",
              "  var s = document.createElement('script');\n",
              "  s.src = url;\n",
              "  s.async = true;\n",
              "  s.onreadystatechange = s.onload = callback;\n",
              "  s.onerror = function(){console.warn(\"failed to load library \" + url);};\n",
              "  document.getElementsByTagName(\"head\")[0].appendChild(s);\n",
              "}\n",
              "\n",
              "if(typeof(LDAvis) !== \"undefined\"){\n",
              "   // already loaded: just create the visualization\n",
              "   !function(LDAvis){\n",
              "       new LDAvis(\"#\" + \"ldavis_el1421398860716060646943688816\", ldavis_el1421398860716060646943688816_data);\n",
              "   }(LDAvis);\n",
              "}else if(typeof define === \"function\" && define.amd){\n",
              "   // require.js is available: use it to load d3/LDAvis\n",
              "   require.config({paths: {d3: \"https://d3js.org/d3.v5\"}});\n",
              "   require([\"d3\"], function(d3){\n",
              "      window.d3 = d3;\n",
              "      LDAvis_load_lib(\"https://cdn.jsdelivr.net/gh/bmabey/pyLDAvis@3.4.0/pyLDAvis/js/ldavis.v3.0.0.js\", function(){\n",
              "        new LDAvis(\"#\" + \"ldavis_el1421398860716060646943688816\", ldavis_el1421398860716060646943688816_data);\n",
              "      });\n",
              "    });\n",
              "}else{\n",
              "    // require.js not available: dynamically load d3 & LDAvis\n",
              "    LDAvis_load_lib(\"https://d3js.org/d3.v5.js\", function(){\n",
              "         LDAvis_load_lib(\"https://cdn.jsdelivr.net/gh/bmabey/pyLDAvis@3.4.0/pyLDAvis/js/ldavis.v3.0.0.js\", function(){\n",
              "                 new LDAvis(\"#\" + \"ldavis_el1421398860716060646943688816\", ldavis_el1421398860716060646943688816_data);\n",
              "            })\n",
              "         });\n",
              "}\n",
              "</script>"
            ]
          },
          "metadata": {},
          "execution_count": 26
        }
      ]
    },
    {
      "cell_type": "code",
      "source": [],
      "metadata": {
        "id": "1B7fcSQSrZWF"
      },
      "execution_count": null,
      "outputs": []
    }
  ]
}